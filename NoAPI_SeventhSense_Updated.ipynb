{
  "cells": [
    {
      "cell_type": "markdown",
      "metadata": {
        "id": "view-in-github",
        "colab_type": "text"
      },
      "source": [
        "<a href=\"https://colab.research.google.com/github/shatakshidata/aiRecruitment/blob/main/NoAPI_SeventhSense_Updated.ipynb\" target=\"_parent\"><img src=\"https://colab.research.google.com/assets/colab-badge.svg\" alt=\"Open In Colab\"/></a>"
      ]
    },
    {
      "cell_type": "code",
      "execution_count": null,
      "metadata": {
        "colab": {
          "base_uri": "https://localhost:8080/"
        },
        "id": "foJK3xS4RoaB",
        "outputId": "e4e9e8bf-e513-4f94-8385-81744038776e",
        "collapsed": true
      },
      "outputs": [
        {
          "output_type": "stream",
          "name": "stdout",
          "text": [
            "Requirement already satisfied: openai in /usr/local/lib/python3.10/dist-packages (1.52.2)\n",
            "Requirement already satisfied: anyio<5,>=3.5.0 in /usr/local/lib/python3.10/dist-packages (from openai) (3.7.1)\n",
            "Requirement already satisfied: distro<2,>=1.7.0 in /usr/local/lib/python3.10/dist-packages (from openai) (1.9.0)\n",
            "Requirement already satisfied: httpx<1,>=0.23.0 in /usr/local/lib/python3.10/dist-packages (from openai) (0.27.2)\n",
            "Requirement already satisfied: jiter<1,>=0.4.0 in /usr/local/lib/python3.10/dist-packages (from openai) (0.7.0)\n",
            "Requirement already satisfied: pydantic<3,>=1.9.0 in /usr/local/lib/python3.10/dist-packages (from openai) (2.9.2)\n",
            "Requirement already satisfied: sniffio in /usr/local/lib/python3.10/dist-packages (from openai) (1.3.1)\n",
            "Requirement already satisfied: tqdm>4 in /usr/local/lib/python3.10/dist-packages (from openai) (4.66.6)\n",
            "Requirement already satisfied: typing-extensions<5,>=4.11 in /usr/local/lib/python3.10/dist-packages (from openai) (4.12.2)\n",
            "Requirement already satisfied: idna>=2.8 in /usr/local/lib/python3.10/dist-packages (from anyio<5,>=3.5.0->openai) (3.10)\n",
            "Requirement already satisfied: exceptiongroup in /usr/local/lib/python3.10/dist-packages (from anyio<5,>=3.5.0->openai) (1.2.2)\n",
            "Requirement already satisfied: certifi in /usr/local/lib/python3.10/dist-packages (from httpx<1,>=0.23.0->openai) (2024.8.30)\n",
            "Requirement already satisfied: httpcore==1.* in /usr/local/lib/python3.10/dist-packages (from httpx<1,>=0.23.0->openai) (1.0.6)\n",
            "Requirement already satisfied: h11<0.15,>=0.13 in /usr/local/lib/python3.10/dist-packages (from httpcore==1.*->httpx<1,>=0.23.0->openai) (0.14.0)\n",
            "Requirement already satisfied: annotated-types>=0.6.0 in /usr/local/lib/python3.10/dist-packages (from pydantic<3,>=1.9.0->openai) (0.7.0)\n",
            "Requirement already satisfied: pydantic-core==2.23.4 in /usr/local/lib/python3.10/dist-packages (from pydantic<3,>=1.9.0->openai) (2.23.4)\n"
          ]
        }
      ],
      "source": [
        "pip install openai"
      ]
    },
    {
      "cell_type": "code",
      "source": [
        "from google.colab import drive\n",
        "drive.mount('/content/drive')"
      ],
      "metadata": {
        "colab": {
          "base_uri": "https://localhost:8080/",
          "height": 321
        },
        "id": "GjypxA6-mYEV",
        "outputId": "93747b2b-29f1-4a9e-e725-9fbcc08894e3"
      },
      "execution_count": null,
      "outputs": [
        {
          "output_type": "error",
          "ename": "MessageError",
          "evalue": "Error: credential propagation was unsuccessful",
          "traceback": [
            "\u001b[0;31m---------------------------------------------------------------------------\u001b[0m",
            "\u001b[0;31mMessageError\u001b[0m                              Traceback (most recent call last)",
            "\u001b[0;32m<ipython-input-4-d5df0069828e>\u001b[0m in \u001b[0;36m<cell line: 2>\u001b[0;34m()\u001b[0m\n\u001b[1;32m      1\u001b[0m \u001b[0;32mfrom\u001b[0m \u001b[0mgoogle\u001b[0m\u001b[0;34m.\u001b[0m\u001b[0mcolab\u001b[0m \u001b[0;32mimport\u001b[0m \u001b[0mdrive\u001b[0m\u001b[0;34m\u001b[0m\u001b[0;34m\u001b[0m\u001b[0m\n\u001b[0;32m----> 2\u001b[0;31m \u001b[0mdrive\u001b[0m\u001b[0;34m.\u001b[0m\u001b[0mmount\u001b[0m\u001b[0;34m(\u001b[0m\u001b[0;34m'/content/drive'\u001b[0m\u001b[0;34m)\u001b[0m\u001b[0;34m\u001b[0m\u001b[0;34m\u001b[0m\u001b[0m\n\u001b[0m",
            "\u001b[0;32m/usr/local/lib/python3.10/dist-packages/google/colab/drive.py\u001b[0m in \u001b[0;36mmount\u001b[0;34m(mountpoint, force_remount, timeout_ms, readonly)\u001b[0m\n\u001b[1;32m     98\u001b[0m \u001b[0;32mdef\u001b[0m \u001b[0mmount\u001b[0m\u001b[0;34m(\u001b[0m\u001b[0mmountpoint\u001b[0m\u001b[0;34m,\u001b[0m \u001b[0mforce_remount\u001b[0m\u001b[0;34m=\u001b[0m\u001b[0;32mFalse\u001b[0m\u001b[0;34m,\u001b[0m \u001b[0mtimeout_ms\u001b[0m\u001b[0;34m=\u001b[0m\u001b[0;36m120000\u001b[0m\u001b[0;34m,\u001b[0m \u001b[0mreadonly\u001b[0m\u001b[0;34m=\u001b[0m\u001b[0;32mFalse\u001b[0m\u001b[0;34m)\u001b[0m\u001b[0;34m:\u001b[0m\u001b[0;34m\u001b[0m\u001b[0;34m\u001b[0m\u001b[0m\n\u001b[1;32m     99\u001b[0m   \u001b[0;34m\"\"\"Mount your Google Drive at the specified mountpoint path.\"\"\"\u001b[0m\u001b[0;34m\u001b[0m\u001b[0;34m\u001b[0m\u001b[0m\n\u001b[0;32m--> 100\u001b[0;31m   return _mount(\n\u001b[0m\u001b[1;32m    101\u001b[0m       \u001b[0mmountpoint\u001b[0m\u001b[0;34m,\u001b[0m\u001b[0;34m\u001b[0m\u001b[0;34m\u001b[0m\u001b[0m\n\u001b[1;32m    102\u001b[0m       \u001b[0mforce_remount\u001b[0m\u001b[0;34m=\u001b[0m\u001b[0mforce_remount\u001b[0m\u001b[0;34m,\u001b[0m\u001b[0;34m\u001b[0m\u001b[0;34m\u001b[0m\u001b[0m\n",
            "\u001b[0;32m/usr/local/lib/python3.10/dist-packages/google/colab/drive.py\u001b[0m in \u001b[0;36m_mount\u001b[0;34m(mountpoint, force_remount, timeout_ms, ephemeral, readonly)\u001b[0m\n\u001b[1;32m    135\u001b[0m   )\n\u001b[1;32m    136\u001b[0m   \u001b[0;32mif\u001b[0m \u001b[0mephemeral\u001b[0m\u001b[0;34m:\u001b[0m\u001b[0;34m\u001b[0m\u001b[0;34m\u001b[0m\u001b[0m\n\u001b[0;32m--> 137\u001b[0;31m     _message.blocking_request(\n\u001b[0m\u001b[1;32m    138\u001b[0m         \u001b[0;34m'request_auth'\u001b[0m\u001b[0;34m,\u001b[0m\u001b[0;34m\u001b[0m\u001b[0;34m\u001b[0m\u001b[0m\n\u001b[1;32m    139\u001b[0m         \u001b[0mrequest\u001b[0m\u001b[0;34m=\u001b[0m\u001b[0;34m{\u001b[0m\u001b[0;34m'authType'\u001b[0m\u001b[0;34m:\u001b[0m \u001b[0;34m'dfs_ephemeral'\u001b[0m\u001b[0;34m}\u001b[0m\u001b[0;34m,\u001b[0m\u001b[0;34m\u001b[0m\u001b[0;34m\u001b[0m\u001b[0m\n",
            "\u001b[0;32m/usr/local/lib/python3.10/dist-packages/google/colab/_message.py\u001b[0m in \u001b[0;36mblocking_request\u001b[0;34m(request_type, request, timeout_sec, parent)\u001b[0m\n\u001b[1;32m    174\u001b[0m       \u001b[0mrequest_type\u001b[0m\u001b[0;34m,\u001b[0m \u001b[0mrequest\u001b[0m\u001b[0;34m,\u001b[0m \u001b[0mparent\u001b[0m\u001b[0;34m=\u001b[0m\u001b[0mparent\u001b[0m\u001b[0;34m,\u001b[0m \u001b[0mexpect_reply\u001b[0m\u001b[0;34m=\u001b[0m\u001b[0;32mTrue\u001b[0m\u001b[0;34m\u001b[0m\u001b[0;34m\u001b[0m\u001b[0m\n\u001b[1;32m    175\u001b[0m   )\n\u001b[0;32m--> 176\u001b[0;31m   \u001b[0;32mreturn\u001b[0m \u001b[0mread_reply_from_input\u001b[0m\u001b[0;34m(\u001b[0m\u001b[0mrequest_id\u001b[0m\u001b[0;34m,\u001b[0m \u001b[0mtimeout_sec\u001b[0m\u001b[0;34m)\u001b[0m\u001b[0;34m\u001b[0m\u001b[0;34m\u001b[0m\u001b[0m\n\u001b[0m",
            "\u001b[0;32m/usr/local/lib/python3.10/dist-packages/google/colab/_message.py\u001b[0m in \u001b[0;36mread_reply_from_input\u001b[0;34m(message_id, timeout_sec)\u001b[0m\n\u001b[1;32m    101\u001b[0m     ):\n\u001b[1;32m    102\u001b[0m       \u001b[0;32mif\u001b[0m \u001b[0;34m'error'\u001b[0m \u001b[0;32min\u001b[0m \u001b[0mreply\u001b[0m\u001b[0;34m:\u001b[0m\u001b[0;34m\u001b[0m\u001b[0;34m\u001b[0m\u001b[0m\n\u001b[0;32m--> 103\u001b[0;31m         \u001b[0;32mraise\u001b[0m \u001b[0mMessageError\u001b[0m\u001b[0;34m(\u001b[0m\u001b[0mreply\u001b[0m\u001b[0;34m[\u001b[0m\u001b[0;34m'error'\u001b[0m\u001b[0;34m]\u001b[0m\u001b[0;34m)\u001b[0m\u001b[0;34m\u001b[0m\u001b[0;34m\u001b[0m\u001b[0m\n\u001b[0m\u001b[1;32m    104\u001b[0m       \u001b[0;32mreturn\u001b[0m \u001b[0mreply\u001b[0m\u001b[0;34m.\u001b[0m\u001b[0mget\u001b[0m\u001b[0;34m(\u001b[0m\u001b[0;34m'data'\u001b[0m\u001b[0;34m,\u001b[0m \u001b[0;32mNone\u001b[0m\u001b[0;34m)\u001b[0m\u001b[0;34m\u001b[0m\u001b[0;34m\u001b[0m\u001b[0m\n\u001b[1;32m    105\u001b[0m \u001b[0;34m\u001b[0m\u001b[0m\n",
            "\u001b[0;31mMessageError\u001b[0m: Error: credential propagation was unsuccessful"
          ]
        }
      ]
    },
    {
      "cell_type": "code",
      "source": [
        "root_dir  = \"/content/drive/MyDrive/JD7Sense/Examples\"  # Replace with the folder ID of \"s4 Example\"\n",
        "immediate_directories = [name for name in os.listdir(root_dir) if os.path.isdir(os.path.join(root_dir, name))]\n",
        "\n",
        "for dir in immediate_directories:\n",
        "  # you can ignore this line as these folders got created in my drive\n",
        "  if dir != \".ipynb_checkpoints\":\n",
        "\n",
        "    for file in os.listdir(f\"{root_dir}/{dir}/{dir} Candidate Resume\"):\n",
        "      # you can ignore this line as these folders got created in my drive\n",
        "      if file != \".ipynb_checkpoints\":\n",
        "        print(f\"JD: {root_dir}/{dir}/{dir} Job description.url and Resume: {root_dir}/{dir}/{dir} Candidate Resume/{file}\")\n",
        "\n",
        "        root_dir  = \"/content/drive/MyDrive/JD7Sense/Examples\"  # Replace with the folder ID of \"s4 Example\"\n",
        "immediate_directories = [name for name in os.listdir(root_dir) if os.path.isdir(os.path.join(root_dir, name))]\n",
        "\n",
        "for dir in immediate_directories:\n",
        "  # you can ignore this line as these folders got created in my drive\n",
        "  if dir != \".ipynb_checkpoints\":\n",
        "\n",
        "    for file in os.listdir(os.path.join(root_dir,dir, f\"{dir} Candidate Resume\")):\n",
        "      # you can ignore this line as these folders got created in my drive\n",
        "      if file != \".ipynb_checkpoints\":\n",
        "        print(f\"JD: {root_dir}/{dir}/{dir} Job description.url and Resume: {root_dir}/{dir}/{dir} Candidate Resume/{file}\")"
      ],
      "metadata": {
        "id": "B-W-MDYoEUbY"
      },
      "execution_count": null,
      "outputs": []
    },
    {
      "cell_type": "code",
      "source": [
        "!pip install python-docx"
      ],
      "metadata": {
        "colab": {
          "base_uri": "https://localhost:8080/"
        },
        "id": "4SMBP2EoNlLt",
        "outputId": "7b4b7952-8d84-4655-e4dd-b04693cc78c9"
      },
      "execution_count": null,
      "outputs": [
        {
          "output_type": "stream",
          "name": "stdout",
          "text": [
            "Collecting python-docx\n",
            "  Downloading python_docx-1.1.2-py3-none-any.whl.metadata (2.0 kB)\n",
            "Requirement already satisfied: lxml>=3.1.0 in /usr/local/lib/python3.10/dist-packages (from python-docx) (5.3.0)\n",
            "Requirement already satisfied: typing-extensions>=4.9.0 in /usr/local/lib/python3.10/dist-packages (from python-docx) (4.12.2)\n",
            "Downloading python_docx-1.1.2-py3-none-any.whl (244 kB)\n",
            "\u001b[?25l   \u001b[90m━━━━━━━━━━━━━━━━━━━━━━━━━━━━━━━━━━━━━━━━\u001b[0m \u001b[32m0.0/244.3 kB\u001b[0m \u001b[31m?\u001b[0m eta \u001b[36m-:--:--\u001b[0m\r\u001b[2K   \u001b[90m━━━━━━━━━━━━━━━━━━━━━━━━━━━━━━━━━━━━━━━━\u001b[0m \u001b[32m244.3/244.3 kB\u001b[0m \u001b[31m14.8 MB/s\u001b[0m eta \u001b[36m0:00:00\u001b[0m\n",
            "\u001b[?25hInstalling collected packages: python-docx\n",
            "Successfully installed python-docx-1.1.2\n"
          ]
        }
      ]
    },
    {
      "cell_type": "code",
      "source": [
        "import os\n",
        "import requests\n",
        "import docx\n",
        "import PyPDF2\n",
        "import pandas as pd\n",
        "from google.colab import drive\n",
        "\n",
        "# Step 1: Mount Google Drive\n",
        "drive.mount('/content/drive')\n",
        "\n",
        "# Step 2: Define helper functions\n",
        "def extract_text_from_docx(docx_path):\n",
        "    \"\"\"Extract text from a .docx file.\"\"\"\n",
        "    doc = docx.Document(docx_path)\n",
        "    return \"\\n\".join([para.text for para in doc.paragraphs])\n",
        "\n",
        "def extract_text_from_pdf(pdf_path):\n",
        "    \"\"\"Extract text from a .pdf file.\"\"\"\n",
        "    text = \"\"\n",
        "    with open(pdf_path, \"rb\") as file:\n",
        "        reader = PyPDF2.PdfReader(file)\n",
        "        for page in reader.pages:\n",
        "            text += page.extract_text()\n",
        "    return text\n",
        "\n",
        "def extract_text_from_url(url_path):\n",
        "    \"\"\"Extract text from a .url file.\"\"\"\n",
        "    with open(url_path, \"r\") as file:\n",
        "        url = file.read().strip()\n",
        "    response = requests.get(url)\n",
        "    return response.text if response.status_code == 200 else \"Failed to fetch JD from URL\"\n",
        "\n",
        "# Step 3: Process folders and pair JD with resumes\n",
        "def process_folders(base_path):\n",
        "    results = []\n",
        "\n",
        "    # Traverse all folders within the base directory\n",
        "    for folder in os.listdir(base_path):\n",
        "        folder_path = os.path.join(base_path, folder)\n",
        "\n",
        "        if not os.path.isdir(folder_path):\n",
        "            continue  # Skip files, only process directories\n",
        "\n",
        "        jd_file = None\n",
        "        resume_files = []\n",
        "\n",
        "        # Traverse files within the current folder\n",
        "        for file in os.listdir(folder_path):\n",
        "            file_path = os.path.join(folder_path, file)\n",
        "\n",
        "            if file.endswith(\".url\"):\n",
        "                jd_file = file_path\n",
        "            elif file.endswith(\".docx\") or file.endswith(\".pdf\"):\n",
        "                resume_files.append(file_path)\n",
        "\n",
        "        if jd_file and resume_files:\n",
        "            # Extract JD text\n",
        "            jd_text = extract_text_from_url(jd_file)\n",
        "\n",
        "            # Process each resume in the folder\n",
        "            for resume_file in resume_files:\n",
        "                if resume_file.endswith(\".docx\"):\n",
        "                    resume_text = extract_text_from_docx(resume_file)\n",
        "                elif resume_file.endswith(\".pdf\"):\n",
        "                    resume_text = extract_text_from_pdf(resume_file)\n",
        "                else:\n",
        "                    continue\n",
        "\n",
        "                # Create JD-resume pair\n",
        "                results.append({\n",
        "                    \"Folder\": folder,\n",
        "                    \"JD_File\": jd_file,\n",
        "                    \"JD_Text\": jd_text,\n",
        "                    \"Resume_File\": resume_file,\n",
        "                    \"Resume_Text\": resume_text\n",
        "                })\n",
        "        else:\n",
        "            print(f\"Warning: Incomplete data in folder {folder}. Skipping...\")\n",
        "\n",
        "    return results\n",
        "\n",
        "# Step 4: Define the base directory and run the function\n",
        "base_directory = \"/content/drive/My Drive/YourFolderName\"\n",
        "jd_resume_pairs = process_folders(base_directory)\n",
        "\n",
        "# Step 5: Save results to a DataFrame and export to Excel\n",
        "df_results = pd.DataFrame(jd_resume_pairs)\n",
        "output_path = \"/content/drive/My Drive/jd_resume_pairs.xlsx\"\n",
        "df_results.to_excel(output_path, index=False)\n",
        "print(f\"Results saved to {output_path}\")\n"
      ],
      "metadata": {
        "colab": {
          "base_uri": "https://localhost:8080/",
          "height": 384
        },
        "id": "AzQ3V9xxChY8",
        "outputId": "ec87d59b-8f77-491b-df86-d89f1bcb47c9"
      },
      "execution_count": null,
      "outputs": [
        {
          "output_type": "error",
          "ename": "ModuleNotFoundError",
          "evalue": "No module named 'PyPDF2'",
          "traceback": [
            "\u001b[0;31m---------------------------------------------------------------------------\u001b[0m",
            "\u001b[0;31mModuleNotFoundError\u001b[0m                       Traceback (most recent call last)",
            "\u001b[0;32m<ipython-input-6-bb957ce9676c>\u001b[0m in \u001b[0;36m<cell line: 4>\u001b[0;34m()\u001b[0m\n\u001b[1;32m      2\u001b[0m \u001b[0;32mimport\u001b[0m \u001b[0mrequests\u001b[0m\u001b[0;34m\u001b[0m\u001b[0;34m\u001b[0m\u001b[0m\n\u001b[1;32m      3\u001b[0m \u001b[0;32mimport\u001b[0m \u001b[0mdocx\u001b[0m\u001b[0;34m\u001b[0m\u001b[0;34m\u001b[0m\u001b[0m\n\u001b[0;32m----> 4\u001b[0;31m \u001b[0;32mimport\u001b[0m \u001b[0mPyPDF2\u001b[0m\u001b[0;34m\u001b[0m\u001b[0;34m\u001b[0m\u001b[0m\n\u001b[0m\u001b[1;32m      5\u001b[0m \u001b[0;32mimport\u001b[0m \u001b[0mpandas\u001b[0m \u001b[0;32mas\u001b[0m \u001b[0mpd\u001b[0m\u001b[0;34m\u001b[0m\u001b[0;34m\u001b[0m\u001b[0m\n\u001b[1;32m      6\u001b[0m \u001b[0;32mfrom\u001b[0m \u001b[0mgoogle\u001b[0m\u001b[0;34m.\u001b[0m\u001b[0mcolab\u001b[0m \u001b[0;32mimport\u001b[0m \u001b[0mdrive\u001b[0m\u001b[0;34m\u001b[0m\u001b[0;34m\u001b[0m\u001b[0m\n",
            "\u001b[0;31mModuleNotFoundError\u001b[0m: No module named 'PyPDF2'",
            "",
            "\u001b[0;31m---------------------------------------------------------------------------\u001b[0;32m\nNOTE: If your import is failing due to a missing package, you can\nmanually install dependencies using either !pip or !apt.\n\nTo view examples of installing some common dependencies, click the\n\"Open Examples\" button below.\n\u001b[0;31m---------------------------------------------------------------------------\u001b[0m\n"
          ],
          "errorDetails": {
            "actions": [
              {
                "action": "open_url",
                "actionText": "Open Examples",
                "url": "/notebooks/snippets/importing_libraries.ipynb"
              }
            ]
          }
        }
      ]
    },
    {
      "cell_type": "code",
      "execution_count": null,
      "metadata": {
        "colab": {
          "base_uri": "https://localhost:8080/"
        },
        "id": "-zG-dgvCjf4l",
        "outputId": "89d07379-7b95-46d5-caa8-876a18e31be4",
        "collapsed": true
      },
      "outputs": [
        {
          "output_type": "stream",
          "name": "stdout",
          "text": [
            "Requirement already satisfied: openai in /usr/local/lib/python3.10/dist-packages (1.52.2)\n",
            "Collecting python-docx\n",
            "  Downloading python_docx-1.1.2-py3-none-any.whl.metadata (2.0 kB)\n",
            "Collecting PyMuPDF\n",
            "  Downloading PyMuPDF-1.24.13-cp39-abi3-manylinux2014_x86_64.manylinux_2_17_x86_64.whl.metadata (3.4 kB)\n",
            "Requirement already satisfied: anyio<5,>=3.5.0 in /usr/local/lib/python3.10/dist-packages (from openai) (3.7.1)\n",
            "Requirement already satisfied: distro<2,>=1.7.0 in /usr/local/lib/python3.10/dist-packages (from openai) (1.9.0)\n",
            "Requirement already satisfied: httpx<1,>=0.23.0 in /usr/local/lib/python3.10/dist-packages (from openai) (0.27.2)\n",
            "Requirement already satisfied: jiter<1,>=0.4.0 in /usr/local/lib/python3.10/dist-packages (from openai) (0.6.1)\n",
            "Requirement already satisfied: pydantic<3,>=1.9.0 in /usr/local/lib/python3.10/dist-packages (from openai) (2.9.2)\n",
            "Requirement already satisfied: sniffio in /usr/local/lib/python3.10/dist-packages (from openai) (1.3.1)\n",
            "Requirement already satisfied: tqdm>4 in /usr/local/lib/python3.10/dist-packages (from openai) (4.66.6)\n",
            "Requirement already satisfied: typing-extensions<5,>=4.11 in /usr/local/lib/python3.10/dist-packages (from openai) (4.12.2)\n",
            "Requirement already satisfied: lxml>=3.1.0 in /usr/local/lib/python3.10/dist-packages (from python-docx) (5.3.0)\n",
            "Requirement already satisfied: idna>=2.8 in /usr/local/lib/python3.10/dist-packages (from anyio<5,>=3.5.0->openai) (3.10)\n",
            "Requirement already satisfied: exceptiongroup in /usr/local/lib/python3.10/dist-packages (from anyio<5,>=3.5.0->openai) (1.2.2)\n",
            "Requirement already satisfied: certifi in /usr/local/lib/python3.10/dist-packages (from httpx<1,>=0.23.0->openai) (2024.8.30)\n",
            "Requirement already satisfied: httpcore==1.* in /usr/local/lib/python3.10/dist-packages (from httpx<1,>=0.23.0->openai) (1.0.6)\n",
            "Requirement already satisfied: h11<0.15,>=0.13 in /usr/local/lib/python3.10/dist-packages (from httpcore==1.*->httpx<1,>=0.23.0->openai) (0.14.0)\n",
            "Requirement already satisfied: annotated-types>=0.6.0 in /usr/local/lib/python3.10/dist-packages (from pydantic<3,>=1.9.0->openai) (0.7.0)\n",
            "Requirement already satisfied: pydantic-core==2.23.4 in /usr/local/lib/python3.10/dist-packages (from pydantic<3,>=1.9.0->openai) (2.23.4)\n",
            "Downloading python_docx-1.1.2-py3-none-any.whl (244 kB)\n",
            "\u001b[2K   \u001b[90m━━━━━━━━━━━━━━━━━━━━━━━━━━━━━━━━━━━━━━━━\u001b[0m \u001b[32m244.3/244.3 kB\u001b[0m \u001b[31m4.1 MB/s\u001b[0m eta \u001b[36m0:00:00\u001b[0m\n",
            "\u001b[?25hDownloading PyMuPDF-1.24.13-cp39-abi3-manylinux2014_x86_64.manylinux_2_17_x86_64.whl (19.8 MB)\n",
            "\u001b[2K   \u001b[90m━━━━━━━━━━━━━━━━━━━━━━━━━━━━━━━━━━━━━━━━\u001b[0m \u001b[32m19.8/19.8 MB\u001b[0m \u001b[31m29.2 MB/s\u001b[0m eta \u001b[36m0:00:00\u001b[0m\n",
            "\u001b[?25hInstalling collected packages: python-docx, PyMuPDF\n",
            "Successfully installed PyMuPDF-1.24.13 python-docx-1.1.2\n"
          ]
        }
      ],
      "source": [
        "!pip install openai python-docx PyMuPDF"
      ]
    },
    {
      "cell_type": "code",
      "execution_count": null,
      "metadata": {
        "id": "1YnptFBMSN0Y"
      },
      "outputs": [],
      "source": [
        "from openai import OpenAI"
      ]
    },
    {
      "cell_type": "code",
      "execution_count": null,
      "metadata": {
        "id": "_Dup9zCjUyiS"
      },
      "outputs": [],
      "source": [
        "\n",
        "\n",
        "client = OpenAI(\n",
        "  api_key='ADD_API_KEY'\n",
        ")\n"
      ]
    },
    {
      "cell_type": "code",
      "execution_count": null,
      "metadata": {
        "id": "3uC586g9XJtO"
      },
      "outputs": [],
      "source": [
        "import time\n",
        "time.sleep(1)"
      ]
    },
    {
      "cell_type": "code",
      "execution_count": null,
      "metadata": {
        "id": "BvSxsZHSR_QN"
      },
      "outputs": [],
      "source": [
        "completion = client.chat.completions.create(\n",
        "    model = \"gpt-4o-mini\",\n",
        "    messages=[\n",
        "        {\"role\": \"system\",\n",
        "         \"content\": \"You are an expert recruiter.\"\n",
        "         },\n",
        "        {\n",
        "            \"role\": \"user\",\n",
        "            \"content\": \"Help us with resume relevance score for every job description\"\n",
        "        }\n",
        "    ]\n",
        ")"
      ]
    },
    {
      "cell_type": "code",
      "execution_count": null,
      "metadata": {
        "id": "-x8L63aBj80Z"
      },
      "outputs": [],
      "source": [
        "import fitz  # PyMuPDF library # Resume\n",
        "\n",
        "def read_pdf(file_path):\n",
        "    doc = fitz.open(file_path)\n",
        "    text = \"\"\n",
        "    for page_num in range(doc.page_count):\n",
        "        page = doc.load_page(page_num)\n",
        "        text += page.get_text(\"text\")\n",
        "    return text"
      ]
    },
    {
      "cell_type": "code",
      "source": [
        "job_description = read_pdf(\"/content/JD7sense.pdf\")"
      ],
      "metadata": {
        "id": "JpsSk8gyjiHa"
      },
      "execution_count": null,
      "outputs": []
    },
    {
      "cell_type": "code",
      "source": [
        "resume_1 = read_pdf(\"/content/4-ResumeNathanielBanks.pdf\")\n",
        "resume_2 = read_pdf(\"/content/73-Alonzo_Craig_Washington.pdf\")\n",
        "#resume_3 = read_pdf(\"/content/14-resume 2.pdf\")\n",
        "#resume_4 = read_pdf(\"/content/9-Medina_Brian_2024.docx\")\n",
        "#resume_5 = read_pdf(\"/content/26-Resume.pdf\")"
      ],
      "metadata": {
        "id": "bL0UMKdnk-dr"
      },
      "execution_count": null,
      "outputs": []
    },
    {
      "cell_type": "code",
      "execution_count": null,
      "metadata": {
        "id": "5nRz3He2Isss"
      },
      "outputs": [],
      "source": [
        "prompt = f\"\"\"Given is 1 job description file {job_description} in response and 2 resume {resume_1}, {resume_2} files in response2.\n",
        "Give me each of the 2 candidate's name and relevancy score by using their resume against the same job description.\n",
        "It can be a number between 1 to 10. Please also explain breakdown of scoring. Please try to be concise\"\"\"\n",
        "\n",
        "response3 = client.chat.completions.create(\n",
        "    model=\"gpt-4o-mini\",\n",
        "    messages=[\n",
        "        {\"role\": \"system\",\n",
        "         \"content\": \"You are a recruiter that provides relevance scores between job descriptions and resumes.t\"},\n",
        "        {\"role\": \"user\",\n",
        "         \"content\": prompt}\n",
        "    ],\n",
        "    max_tokens= 3000,\n",
        "    temperature= 0\n",
        ")"
      ]
    },
    {
      "cell_type": "code",
      "execution_count": null,
      "metadata": {
        "colab": {
          "base_uri": "https://localhost:8080/"
        },
        "id": "H2Ua01trlhDs",
        "outputId": "c7c55937-78b4-48ea-c945-4ee5a0a01dd3",
        "collapsed": true
      },
      "outputs": [
        {
          "output_type": "stream",
          "name": "stdout",
          "text": [
            "### Candidate 1: Nathaniel Banks\n",
            "**Relevancy Score: 8/10**\n",
            "\n",
            "**Breakdown of Scoring:**\n",
            "- **Experience in Configuration Management (CM):** Nathaniel has over 10 years of experience in aviation maintenance and production control, which aligns well with the job's requirement for at least three years in CM of aircraft systems. (Score: 3/3)\n",
            "- **Education:** He has a Bachelor's degree in Business, which meets the educational requirement. (Score: 1/1)\n",
            "- **Security Clearance:** He holds a Secret security clearance, which is a requirement for the position. (Score: 1/1)\n",
            "- **Experience with DoD Acquisition Programs:** His experience with the U.S. Navy and various defense-related roles suggests familiarity with DoD policies and acquisition processes, although not explicitly stated. (Score: 1/2)\n",
            "- **Communication Skills:** His roles indicate strong communication skills, but specific examples of customer service focus are less emphasized. (Score: 1/1)\n",
            "- **Preferred Qualifications:** Lacks specific experience with F-35 or 5th Generation Fighter acquisition management, which could enhance his fit. (Score: 0/1)\n",
            "\n",
            "---\n",
            "\n",
            "### Candidate 2: Alonzo Craig\n",
            "**Relevancy Score: 6/10**\n",
            "\n",
            "**Breakdown of Scoring:**\n",
            "- **Experience in Configuration Management (CM):** Alonzo has extensive experience in CM, particularly in IT and software environments, which may not directly translate to aircraft systems. (Score: 2/3)\n",
            "- **Education:** His educational background is not specified, which is a gap since the job requires a degree. (Score: 0/1)\n",
            "- **Security Clearance:** No mention of a security clearance, which is a critical requirement for the position. (Score: 0/1)\n",
            "- **Experience with DoD Acquisition Programs:** Limited experience with defense acquisition programs; most experience is in IT and software, which may not align with the specific needs of the role. (Score: 1/2)\n",
            "- **Communication Skills:** Strong communication skills are indicated through his roles, but specific examples related to customer service are not highlighted. (Score: 1/1)\n",
            "- **Preferred Qualifications:** Lacks specific experience with F-35 or 5th Generation Fighter acquisition management, which could enhance his fit. (Score: 1/1)\n",
            "\n",
            "---\n",
            "\n",
            "In summary, Nathaniel Banks is a stronger candidate for the Configuration Management Analyst position due to his relevant experience and qualifications, while Alonzo Craig's background, although extensive in CM, does not align as closely with the specific requirements of the role.\n"
          ]
        }
      ],
      "source": [
        "print(response3.choices[0].message.content)"
      ]
    },
    {
      "cell_type": "code",
      "source": [
        "def get_relevance_scores(job_description, resumes):\n",
        "    \"\"\"Get relevance scores for resumes against a job description using OpenAI API.\"\"\"\n",
        "    # Construct the prompt using the job description and resume names\n",
        "    resume_list = ', '.join(resumes)  # Join resume names for the prompt\n",
        "    prompt = f\"\"\"Given is 1 job description file: {job_description}.\n",
        "    You have the following resumes: {resume_list}.\n",
        "    Please provide each candidate's name and their relevancy score based on the resume against the job description.\n",
        "    The score should be a number between 0 to 1, with 2 decimal points.\n",
        "    Please also provide a breakdown of the scoring. Be concise in your explanations.\n",
        "    \"\"\"\n",
        "\n",
        "    response = client.chat.completions.create(\n",
        "        model=\"gpt-4o-mini\",  # Use the appropriate model version\n",
        "        messages=[\n",
        "            {\n",
        "                \"role\": \"system\",\n",
        "                \"content\": \"You are a recruiter that provides relevance scores between job descriptions and resumes.\"\n",
        "            },\n",
        "            {\n",
        "                \"role\": \"user\",\n",
        "                \"content\": prompt\n",
        "            }\n",
        "        ],\n",
        "        max_tokens=3000,\n",
        "        temperature=0\n",
        "    )\n",
        "\n",
        "    # Assuming the response structure\n",
        "    return response.choices[0].message.content\n"
      ],
      "metadata": {
        "id": "LvDURYTEmLlf"
      },
      "execution_count": null,
      "outputs": []
    },
    {
      "cell_type": "code",
      "source": [
        "\n",
        "job_description_file = job_description\n",
        "resumes = [resume_1, resume_2, resume_3, resume_4, resume_5]  # List of resumes for this JD\n",
        "\n",
        "# Call the function and get the scores\n",
        "relevance_scores = get_relevance_scores(job_description_file, resumes)\n",
        "print(relevance_scores)"
      ],
      "metadata": {
        "colab": {
          "base_uri": "https://localhost:8080/"
        },
        "id": "N865uIjum8S0",
        "outputId": "be53c86e-9189-46ae-c3b1-1f345bccf25a",
        "collapsed": true
      },
      "execution_count": null,
      "outputs": [
        {
          "output_type": "stream",
          "name": "stdout",
          "text": [
            "Here are the relevancy scores for each candidate based on their resumes against the job description for the Configuration Management Analyst position:\n",
            "\n",
            "### 1. Nathaniel Banks\n",
            "**Relevancy Score: 0.85**\n",
            "\n",
            "**Breakdown:**\n",
            "- **Relevant Experience (0.4):** Over 10 years in aviation maintenance and production control, with specific experience in configuration management and logistics.\n",
            "- **Education (0.2):** Completed DAU Fundamentals of Systems Acquisition Management Certification, which aligns with the job's educational requirements.\n",
            "- **Security Clearance (0.1):** Holds a Secret security clearance, which is a requirement for the position.\n",
            "- **Skills (0.15):** Proficient in Microsoft Office and has strong organizational and communication skills, which are essential for the role.\n",
            "- **Specific Knowledge (0.1):** Familiarity with DoD policies and procedures, though not explicitly stated, is implied through military experience.\n",
            "\n",
            "### 2. Alonzo Craig\n",
            "**Relevancy Score: 0.78**\n",
            "\n",
            "**Breakdown:**\n",
            "- **Relevant Experience (0.35):** Over 20 years in configuration management, with specific roles in ServiceNow and ITIL processes, but lacks direct experience with aircraft systems.\n",
            "- **Education (0.1):** No specific educational qualifications mentioned that align with the job description.\n",
            "- **Security Clearance (0.1):** Not mentioned, which is a drawback.\n",
            "- **Skills (0.15):** Strong technical skills in configuration management tools and processes, but less focus on aviation or defense systems.\n",
            "- **Specific Knowledge (0.08):** Some familiarity with DoD processes, but not as extensive as required for the position.\n",
            "\n",
            "### 3. James C. Seaver\n",
            "**Relevancy Score: 0.92**\n",
            "\n",
            "**Breakdown:**\n",
            "- **Relevant Experience (0.45):** Extensive experience in configuration management and logistics support for defense systems, including the F-35 program.\n",
            "- **Education (0.2):** Relevant certifications and training in configuration management and logistics.\n",
            "- **Security Clearance (0.1):** Holds an active Secret clearance, meeting the job requirement.\n",
            "- **Skills (0.1):** Strong analytical and communication skills, essential for the role.\n",
            "- **Specific Knowledge (0.07):** Direct experience with DoD acquisition processes and policies, particularly with the F-35 program.\n",
            "\n",
            "### 4. Doris Marie Bryant\n",
            "**Relevancy Score: 0.25**\n",
            "\n",
            "**Breakdown:**\n",
            "- **Relevant Experience (0.1):** Primarily legal secretary experience with no direct relevance to configuration management or defense systems.\n",
            "- **Education (0.05):** No relevant educational background related to engineering or management.\n",
            "- **Security Clearance (0):** No mention of security clearance.\n",
            "- **Skills (0.1):** Administrative skills are strong, but do not align with the technical requirements of the job.\n",
            "- **Specific Knowledge (0):** No relevant knowledge of DoD policies or configuration management processes.\n",
            "\n",
            "### 5. Michael B. Jones\n",
            "**Relevancy Score: 0.88**\n",
            "\n",
            "**Breakdown:**\n",
            "- **Relevant Experience (0.4):** Significant experience in configuration management and logistics support for defense programs, including direct involvement with DoD projects.\n",
            "- **Education (0.2):** Relevant educational background in business administration, though not specifically engineering.\n",
            "- **Security Clearance (0.1):** No mention of security clearance, which is a requirement.\n",
            "- **Skills (0.1):** Strong analytical and project management skills relevant to the role.\n",
            "- **Specific Knowledge (0.08):** Familiarity with DoD acquisition processes and policies, particularly in logistics.\n",
            "\n",
            "### Summary of Scores:\n",
            "- Nathaniel Banks: **0.85**\n",
            "- Alonzo Craig: **0.78**\n",
            "- James C. Seaver: **0.92**\n",
            "- Doris Marie Bryant: **0.25**\n",
            "- Michael B. Jones: **0.88**\n"
          ]
        }
      ]
    },
    {
      "cell_type": "code",
      "source": [
        "JD2 = read_pdf(\"/content/Job Desription 2.pdf\")"
      ],
      "metadata": {
        "id": "7caPXSD_pAwv"
      },
      "execution_count": null,
      "outputs": []
    },
    {
      "cell_type": "code",
      "source": [
        "resume_6 = read_pdf(\"/content/66-Resume_Jenell Washington_May 2024.docx\")\n",
        "resume_7 = read_pdf(\"/content/77-Amy_Rose.pdf\")\n",
        "resume_8 = read_pdf(\"/content/35-GINA_MOTEN RESUME  April 2024.pdf\")\n",
        "resume_9 = read_pdf(\"/content/72-Megan_Wilson_Resume.pdf\")"
      ],
      "metadata": {
        "id": "Z1XflWGxpGOY"
      },
      "execution_count": null,
      "outputs": []
    },
    {
      "cell_type": "code",
      "source": [
        "job_description_file = JD2\n",
        "resumes = [resume_6, resume_7, resume_8, resume_9]  # List of resumes for this JD\n",
        "\n",
        "# Call the function and get the scores\n",
        "relevance_scores = get_relevance_scores(job_description_file, resumes)\n",
        "print(relevance_scores)"
      ],
      "metadata": {
        "colab": {
          "base_uri": "https://localhost:8080/"
        },
        "id": "VNUhvgOQolr9",
        "outputId": "cca384ab-1b47-4392-f483-257c94867cdc",
        "collapsed": true
      },
      "execution_count": null,
      "outputs": [
        {
          "output_type": "stream",
          "name": "stdout",
          "text": [
            "### Candidate Relevancy Scores\n",
            "\n",
            "1. **Jenell P. Washington**\n",
            "   - **Relevancy Score:** **0.95**\n",
            "   - **Breakdown:**\n",
            "     - **Experience in Federal Government Contracts:** Extensive experience (23 years) in contracts and acquisitions, specifically with federal agencies, aligns well with the job's requirement for federal government contracting experience.\n",
            "     - **Education:** Holds a Bachelor's Degree in Business Administration with a minor in Acquisition and Contract Management, meeting the educational requirement.\n",
            "     - **Certifications:** FAC-C Level III Certification and an unlimited warrant, which are highly relevant to the procurement specialist role.\n",
            "     - **Skills:** Proficient in procurement systems (PPS, SAM, FPDS), which are mentioned in the job description. Strong experience in IT procurement aligns with the specific focus of the position.\n",
            "     - **Communication and Leadership:** Demonstrated ability to assist and train junior team members, which is a desired skill in the job description.\n",
            "\n",
            "2. **Amy Rose**\n",
            "   - **Relevancy Score:** **0.30**\n",
            "   - **Breakdown:**\n",
            "     - **Experience:** Background primarily in production management and operations rather than procurement or contracting, which is the focus of the job description.\n",
            "     - **Skills:** While there are some skills related to procurement, they are not as extensive or relevant to federal contracting as required by the job.\n",
            "     - **Education:** No relevant degree or certifications in procurement or contracting mentioned.\n",
            "     - **Lack of Federal Experience:** No experience supporting federal government contracting offices, which is a key requirement.\n",
            "\n",
            "3. **Gina Moten**\n",
            "   - **Relevancy Score:** **0.85**\n",
            "   - **Breakdown:**\n",
            "     - **Experience:** Over 20 years in acquisition and contracting, with specific experience in federal contracting, which aligns well with the job requirements.\n",
            "     - **Education:** Holds a Master's in Procurement and Acquisitions Management, which is relevant to the position.\n",
            "     - **Skills:** Proficient in contract negotiation, project management, and compliance with federal regulations, which are essential for the role.\n",
            "     - **Security Clearance:** Active Top Secret clearance is a plus, although not explicitly required, it adds value for federal contracting roles.\n",
            "     - **Specific Experience:** Experience with cradle-to-grave contract administration aligns with the responsibilities outlined in the job description.\n",
            "\n",
            "4. **Megan Wilson**\n",
            "   - **Relevancy Score:** **0.60**\n",
            "   - **Breakdown:**\n",
            "     - **Experience:** Background in supply chain management and procurement, but lacks specific federal contracting experience.\n",
            "     - **Skills:** Familiarity with procurement processes and systems (NetSuite, SAP) is relevant, but not as extensive in federal contracting as required.\n",
            "     - **Education:** Holds a Bachelor's in Mechanical Engineering, which is not directly related to procurement or contracting.\n",
            "     - **Limited Federal Experience:** No direct experience with federal government contracting offices, which is a significant aspect of the job description.\n",
            "\n",
            "### Summary of Scores\n",
            "- **Jenell P. Washington:** 0.95\n",
            "- **Gina Moten:** 0.85\n",
            "- **Megan Wilson:** 0.60\n",
            "- **Amy Rose:** 0.30\n"
          ]
        }
      ]
    },
    {
      "cell_type": "code",
      "source": [
        "JD3 = read_pdf(\"/content/JD3.pdf\")"
      ],
      "metadata": {
        "id": "tJ4uIAQ_2kQu"
      },
      "execution_count": null,
      "outputs": []
    },
    {
      "cell_type": "code",
      "source": [
        "resume_10 = read_pdf(\"/content/91-B.Burton Resume.pdf\")\n",
        "resume_11 = read_pdf(\"/content/37-Michael-Davis.pdf\")\n",
        "resume_12 = read_pdf(\"/content/66-Adel Program Manager Resume.pdf\")\n",
        "resume_13 = read_pdf(\"/content/51-Jasna_Bilalic.pdf\")"
      ],
      "metadata": {
        "id": "uPhhBwL5zcB0"
      },
      "execution_count": null,
      "outputs": []
    },
    {
      "cell_type": "code",
      "source": [
        "job_description_file = JD3\n",
        "resumes = [resume_10, resume_11, resume_12, resume_13]  # List of resumes for this JD\n",
        "\n",
        "# Call the function and get the scores\n",
        "relevance_scores = get_relevance_scores(job_description_file, resumes)\n",
        "print(relevance_scores)"
      ],
      "metadata": {
        "colab": {
          "base_uri": "https://localhost:8080/"
        },
        "id": "_wxI_ooZ3B40",
        "outputId": "a3844cd8-ff52-43da-82de-2647ff2de50f",
        "collapsed": true
      },
      "execution_count": null,
      "outputs": [
        {
          "output_type": "stream",
          "name": "stdout",
          "text": [
            "Here are the relevancy scores for each candidate based on their resumes against the Program Manager job description:\n",
            "\n",
            "### 1. Bernetta R. Burton\n",
            "**Relevancy Score: 0.85**\n",
            "\n",
            "**Breakdown:**\n",
            "- **Education:** Holds a B.A. in Acquisition and Contract Management, which is relevant to the business-related discipline requirement (0.15).\n",
            "- **Experience:** Over 20 years in contracts and acquisitions, including significant experience with DoD and R&D programs, which aligns well with the job's requirements (0.30).\n",
            "- **Certifications:** PMP Certification and DAWIA Level II Certification, meeting the certification requirement (0.15).\n",
            "- **Skills:** Extensive experience in contract management, risk management, and project management, which are crucial for the role (0.25).\n",
            "- **Clearance:** Holds a Public Trust clearance, which is required (0.10).\n",
            "\n",
            "### 2. Michael Davis\n",
            "**Relevancy Score: 0.70**\n",
            "\n",
            "**Breakdown:**\n",
            "- **Education:** Holds a Bachelor's degree in Business Management, which is relevant (0.10).\n",
            "- **Experience:** Has project management experience and logistics support, but lacks specific DoD R&D experience (0.20).\n",
            "- **Certifications:** PMP certification is relevant (0.15).\n",
            "- **Skills:** Strong project management and analytical skills, but less emphasis on contract management and risk management compared to the job description (0.15).\n",
            "- **Clearance:** Active DOD Secret Clearance, which is beneficial but not specifically required (0.10).\n",
            "\n",
            "### 3. Adel Youssef\n",
            "**Relevancy Score: 0.60**\n",
            "\n",
            "**Breakdown:**\n",
            "- **Education:** Holds a B.S. in Computer Science and an EMBA, which is somewhat relevant but not directly aligned with the business-related disciplines specified (0.10).\n",
            "- **Experience:** Extensive experience in program management and IT governance, but lacks specific experience in DoD R&D programs (0.15).\n",
            "- **Certifications:** PMP certified, which is relevant (0.15).\n",
            "- **Skills:** Strong in IT project management but lacks specific skills in contract management and risk management (0.10).\n",
            "- **Clearance:** No mention of a security clearance, which is a disadvantage (0.10).\n",
            "\n",
            "### 4. Jasna Bilalic\n",
            "**Relevancy Score: 0.40**\n",
            "\n",
            "**Breakdown:**\n",
            "- **Education:** Holds a Bachelor's degree in Business Management, which is relevant (0.10).\n",
            "- **Experience:** Over 10 years in hospitality management, which does not align with the requirements for a Program Manager in a DoD context (0.05).\n",
            "- **Certifications:** No relevant certifications mentioned (0.00).\n",
            "- **Skills:** Strong operational management skills but lacks experience in project management, contract management, and risk management (0.10).\n",
            "- **Clearance:** No mention of a security clearance (0.00).\n",
            "\n",
            "### Summary of Scores:\n",
            "- **Bernetta R. Burton:** 0.85\n",
            "- **Michael Davis:** 0.70\n",
            "- **Adel Youssef:** 0.60\n",
            "- **Jasna Bilalic:** 0.40\n"
          ]
        }
      ]
    },
    {
      "cell_type": "markdown",
      "source": [
        "Using GEMINI API Key"
      ],
      "metadata": {
        "id": "6C-0ylKD9f_J"
      }
    },
    {
      "cell_type": "code",
      "source": [
        "!pip install -q -U google-generativeai\n",
        "import pathlib\n",
        "import textwrap\n",
        "import google.generativeai as genai\n"
      ],
      "metadata": {
        "id": "29mm4PE09qk_"
      },
      "execution_count": null,
      "outputs": []
    },
    {
      "cell_type": "code",
      "source": [
        "genai.configure(api_key= \"add_api_key\")"
      ],
      "metadata": {
        "id": "JdSLfmrJ98PM"
      },
      "execution_count": null,
      "outputs": []
    },
    {
      "cell_type": "code",
      "source": [
        "import pathlib\n",
        "import textwrap\n",
        "import google.generativeai as genai\n",
        "from google.generativeai.types import generation_types\n",
        "\n",
        "def calculate_relevance_score(resumes, jd_text):\n",
        "    resume_list = ', '.join(resumes)\n",
        "    \"\"\"Calculates the relevance score of every resume against a job description.\n",
        "    Args:\n",
        "        resume_text: The text of the multiple resumes for that job description.\n",
        "        jd_text: The text of the job description.\n",
        "    Returns:\n",
        "        A dictionary containing the relevance score, candidate's name and breakdown.\n",
        "    \"\"\"\n",
        "    genai.configure(api_key=\"ADD_API_KEY\")\n",
        "    # Prompt to be sent to the model\n",
        "    prompt = f\"\"\"Given is 1 job description file: {jd_text}\\n\n",
        "    You have the following resumes: {resume_list}\\n\n",
        "    For every resume, please provide candidates name and their relevancy score based on the resume against the job description.\n",
        "    The score should be a number between 0 to 1, with 2 decimal points.\n",
        "    Please also provide a breakdown of the scoring. Be concise in your explanations.\n",
        "    \"\"\"\n",
        "    generation_config = generation_types.GenerationConfig(\n",
        "    temperature=0,  # Adjust randomness (0.0-1.0)\n",
        "    max_output_tokens=20000  # Limit output length\n",
        "    )\n",
        "    model = genai.GenerativeModel(\"gemini-1.5-flash\")\n",
        "    # Generate text from the prompt\n",
        "    response = model.generate_content(\n",
        "        contents=prompt,\n",
        "        generation_config=generation_config\n",
        "    )\n",
        "    return response.text"
      ],
      "metadata": {
        "id": "_LMMLLNY9kYX"
      },
      "execution_count": null,
      "outputs": []
    },
    {
      "cell_type": "code",
      "source": [
        "job_description = read_pdf(\"/content/JD7sense.pdf\")\n",
        "resume_1 = read_pdf(\"/content/4-ResumeNathanielBanks.pdf\")\n",
        "resume_2 = read_pdf(\"/content/73-Alonzo_Craig_Washington.pdf\")"
      ],
      "metadata": {
        "id": "sxHdb8meCFY6"
      },
      "execution_count": null,
      "outputs": []
    },
    {
      "cell_type": "code",
      "source": [
        "jd_text = job_description\n",
        "resumes = [resume_1, resume_2]  # List of resumes for this JD\n",
        "\n",
        "# Call the function and get the scores\n",
        "relevance_scores = calculate_relevance_score(resumes, jd_text)\n",
        "print(relevance_scores)"
      ],
      "metadata": {
        "colab": {
          "base_uri": "https://localhost:8080/",
          "height": 540
        },
        "id": "pUVn9grRCQA_",
        "outputId": "37260fd2-d047-4f81-d8d8-e5ca37fb665c"
      },
      "execution_count": null,
      "outputs": [
        {
          "output_type": "stream",
          "name": "stdout",
          "text": [
            "## Candidate Relevancy Scores:\n",
            "\n",
            "**1. Nathaniel Banks:**\n",
            "\n",
            "* **Score:** 0.78\n",
            "* **Breakdown:**\n",
            "    * **Strong Match:** Extensive experience in Aviation Maintenance Administration, Production Control, and Configuration Management. Possesses relevant certifications (Forklift, Secret Clearance) and experience with NALCOMIS, OOMA, and other relevant systems. \n",
            "    * **Moderate Match:**  Experience in Project Management and familiarity with DoD acquisition processes (DAU ACQ 101). \n",
            "    * **Weak Match:**  Lack of direct experience with F-35 program or 5th Generation Fighter acquisition. \n",
            "\n",
            "**2. Alonzo Craig:**\n",
            "\n",
            "* **Score:** 0.92\n",
            "* **Breakdown:**\n",
            "    * **Strong Match:** Extensive experience in Configuration Management, Release Management, and ServiceNow platform. Demonstrated expertise in CMDB, ITIL, Change Management, and Release Management processes. \n",
            "    * **Moderate Match:**  Experience in project management and working with stakeholders. \n",
            "    * **Weak Match:**  Limited direct experience with DoD acquisition or aircraft systems. \n",
            "\n",
            "**Explanation of Scoring:**\n",
            "\n",
            "The scoring is based on a combination of factors:\n",
            "\n",
            "* **Direct Experience:**  Experience directly related to the job description, such as Configuration Management of aircraft systems, DoD acquisition experience, and knowledge of relevant standards (SAE EIA-649B, GEIA-Handbook-649A, MIL-HDBK-61B).\n",
            "* **Relevant Skills:**  Skills and knowledge relevant to the job, such as ITIL, ServiceNow, Change Management, Release Management, and experience with relevant systems (NALCOMIS, OOMA).\n",
            "* **Education and Certifications:**  Relevant degrees and certifications, such as a Bachelor's degree in Engineering, S&T, Business Management, or related discipline, and completion of DAU LOG 2040 Configuration Management or related Logistics Management courses.\n",
            "* **Additional Factors:**  Experience with 5th Generation Fighter acquisition, F-35 program knowledge, and experience with Contractor Supported Weapon Systems (CSWS).\n",
            "\n",
            "**Note:** The scores are subjective and based on the information provided in the resumes and job description.  Further evaluation and interviews would be necessary to determine the best fit for the position. \n",
            "\n"
          ]
        }
      ]
    },
    {
      "cell_type": "code",
      "source": [],
      "metadata": {
        "colab": {
          "base_uri": "https://localhost:8080/",
          "height": 504
        },
        "id": "mGHtvC5248Af",
        "outputId": "b2781925-a44f-4348-a668-a714ce56d1f7"
      },
      "execution_count": null,
      "outputs": [
        {
          "output_type": "execute_result",
          "data": {
            "text/plain": [
              "\"## Candidate: Nathaniel Banks\\n\\n**Relevancy Score: 0.85**\\n\\n**Breakdown:**\\n\\n* **Strong Match:**\\n    * **Configuration Management Experience:** Nathaniel has extensive experience in configuration management, particularly within the Navy's OOMA system. He has managed support equipment, performed audits, and implemented technical data into the system. This aligns directly with the job description's requirements.\\n    * **Defense Acquisition Experience:** Nathaniel has worked on various defense programs, including the F/A-18E/F and P-3 Orion, demonstrating experience with DoD acquisition processes. He has also completed the DAU Fundamentals of Systems Acquisition Management Certification Course (ACQ 101).\\n    * **Technical Skills:** Nathaniel possesses relevant technical skills like Microsoft Office, MRP, ERP, and system administration, which are essential for the role.\\n    * **Clearance:** Nathaniel holds a Secret security clearance, meeting the job requirement.\\n    * **Education:** Nathaniel holds a Bachelor's degree in Business and is pursuing a Master's in Business Administration, fulfilling the education requirement.\\n* **Moderate Match:**\\n    * **Aircraft Systems Experience:** While Nathaniel has experience with aircraft maintenance and support equipment, the job description specifically requires experience with aircraft systems. This is a slight mismatch.\\n    * **MDAP Experience:** The job description requires at least two years of experience supporting a Major Defense Acquisition Program (MDAP). While Nathaniel has worked on defense programs, it's unclear if they qualify as MDAPs.\\n    * **Specific DoD Standards:** The job description mentions specific DoD standards like SAE EIA-649B and MIL-HDBK-61B. It's unclear if Nathaniel has experience with these standards.\\n* **Weak Match:**\\n    * **F-35 Experience:** The job description mentions preferred experience with the F-35 Lightning II program. Nathaniel's resume doesn't indicate any experience with this program.\\n\\n**Overall:** Nathaniel's strong configuration management experience, defense acquisition background, and technical skills make him a highly relevant candidate. However, the lack of specific aircraft systems experience and potential lack of MDAP experience might require further clarification during the interview process. \\n\""
            ],
            "application/vnd.google.colaboratory.intrinsic+json": {
              "type": "string"
            }
          },
          "metadata": {},
          "execution_count": 18
        }
      ]
    },
    {
      "cell_type": "markdown",
      "metadata": {
        "id": "Dy7dMkluUeza"
      },
      "source": [
        "# Embedding"
      ]
    },
    {
      "cell_type": "code",
      "execution_count": null,
      "metadata": {
        "colab": {
          "base_uri": "https://localhost:8080/"
        },
        "id": "WB8OBiGpUmI3",
        "outputId": "f234bc10-467a-4331-d2e2-30b3241e73d2"
      },
      "outputs": [
        {
          "output_type": "stream",
          "name": "stdout",
          "text": [
            "Collecting tiktoken\n",
            "  Downloading tiktoken-0.8.0-cp310-cp310-manylinux_2_17_x86_64.manylinux2014_x86_64.whl.metadata (6.6 kB)\n",
            "Requirement already satisfied: regex>=2022.1.18 in /usr/local/lib/python3.10/dist-packages (from tiktoken) (2024.9.11)\n",
            "Requirement already satisfied: requests>=2.26.0 in /usr/local/lib/python3.10/dist-packages (from tiktoken) (2.32.3)\n",
            "Requirement already satisfied: charset-normalizer<4,>=2 in /usr/local/lib/python3.10/dist-packages (from requests>=2.26.0->tiktoken) (3.4.0)\n",
            "Requirement already satisfied: idna<4,>=2.5 in /usr/local/lib/python3.10/dist-packages (from requests>=2.26.0->tiktoken) (3.10)\n",
            "Requirement already satisfied: urllib3<3,>=1.21.1 in /usr/local/lib/python3.10/dist-packages (from requests>=2.26.0->tiktoken) (2.2.3)\n",
            "Requirement already satisfied: certifi>=2017.4.17 in /usr/local/lib/python3.10/dist-packages (from requests>=2.26.0->tiktoken) (2024.8.30)\n",
            "Downloading tiktoken-0.8.0-cp310-cp310-manylinux_2_17_x86_64.manylinux2014_x86_64.whl (1.2 MB)\n",
            "\u001b[?25l   \u001b[90m━━━━━━━━━━━━━━━━━━━━━━━━━━━━━━━━━━━━━━━━\u001b[0m \u001b[32m0.0/1.2 MB\u001b[0m \u001b[31m?\u001b[0m eta \u001b[36m-:--:--\u001b[0m\r\u001b[2K   \u001b[90m━━━━━━━━━━━━━━━━━━━━━━━━━━━━━━━━━━━━━━━━\u001b[0m \u001b[32m1.2/1.2 MB\u001b[0m \u001b[31m36.3 MB/s\u001b[0m eta \u001b[36m0:00:00\u001b[0m\n",
            "\u001b[?25hInstalling collected packages: tiktoken\n",
            "Successfully installed tiktoken-0.8.0\n"
          ]
        }
      ],
      "source": [
        "pip install tiktoken"
      ]
    },
    {
      "cell_type": "code",
      "execution_count": null,
      "metadata": {
        "id": "imOdrAc-pQnT"
      },
      "outputs": [],
      "source": [
        "import tiktoken\n",
        "\n",
        "# Function to calculate the number of tokens for a given text\n",
        "def calculate_tokens(text, model=\"gpt-4\"):\n",
        "    # Load the tokenizer for the specified model\n",
        "    tokenizer = tiktoken.encoding_for_model(model)\n",
        "\n",
        "    # Encode the text using the tokenizer\n",
        "    tokens = tokenizer.encode(text)\n",
        "\n",
        "    # Return the number of tokens\n",
        "    return len(tokens)\n"
      ]
    },
    {
      "cell_type": "code",
      "execution_count": null,
      "metadata": {
        "colab": {
          "base_uri": "https://localhost:8080/"
        },
        "id": "5Epf8x_cpeC4",
        "outputId": "bf93988b-9bd5-4ae1-a222-d1cef958b588"
      },
      "outputs": [
        {
          "output_type": "stream",
          "name": "stdout",
          "text": [
            "6363\n",
            "0.00012726000000000003\n"
          ]
        }
      ],
      "source": [
        "jd_tokens = calculate_tokens(job_description)\n",
        "resume_1_tokens = calculate_tokens(resume_1)\n",
        "resume_2_tokens = calculate_tokens(resume_2)\n",
        "resume_3_tokens = calculate_tokens(resume_3)\n",
        "resume_4_tokens = calculate_tokens(resume_4)\n",
        "resume_5_tokens = calculate_tokens(resume_5)\n",
        "\n",
        "n = sum([jd_tokens, resume_1_tokens, resume_2_tokens, resume_3_tokens])\n",
        "print(n)\n",
        "\n",
        "Cost = 0.00002*n/1000\n",
        "print(Cost)"
      ]
    },
    {
      "cell_type": "code",
      "execution_count": null,
      "metadata": {
        "id": "npT-Bznfqvar"
      },
      "outputs": [],
      "source": [
        "def get_embedding(text, model=\"text-embedding-ada-002\"):\n",
        "    # Request embeddings from OpenAI\n",
        "    response = client.embeddings.create(\n",
        "        input=text,\n",
        "        model=model\n",
        "    )\n",
        "    # Extract the embedding from the response\n",
        "    embedding = response.data[0].embedding\n",
        "    return embedding\n",
        "\n",
        "# Get embeddings for job description and resumes\n",
        "job_description_embedding = get_embedding(job_description)\n",
        "resume_1_embedding = get_embedding(resume_1)\n",
        "resume_2_embedding = get_embedding(resume_2)\n",
        "resume_3_embedding = get_embedding(resume_3)\n",
        "resume_4_embedding = get_embedding(resume_4)\n",
        "resume_5_embedding = get_embedding(resume_5)"
      ]
    },
    {
      "cell_type": "code",
      "execution_count": null,
      "metadata": {
        "id": "Sgkyaymnvw0n"
      },
      "outputs": [],
      "source": [
        "import numpy as np\n",
        "import matplotlib.pyplot as plt\n",
        "\n",
        "# Function to calculate cosine similarity between two vectors\n",
        "def cosine_similarity(vec1, vec2):\n",
        "    vec1 = np.array(vec1)\n",
        "    vec2 = np.array(vec2)\n",
        "    return np.dot(vec1, vec2) / (np.linalg.norm(vec1) * np.linalg.norm(vec2))\n",
        "\n",
        "# Function to calculate cosine distance (1 - cosine similarity)\n",
        "def cosine_distance(vec1, vec2):\n",
        "    return 1 - cosine_similarity(vec1, vec2)"
      ]
    },
    {
      "cell_type": "code",
      "execution_count": null,
      "metadata": {
        "colab": {
          "base_uri": "https://localhost:8080/"
        },
        "id": "kE1B9akY07JA",
        "outputId": "e59d9a03-7ce9-47aa-b17a-03e73cc16d25"
      },
      "outputs": [
        {
          "name": "stdout",
          "output_type": "stream",
          "text": [
            "Cosine Distance between JD and Resume 1: 0.1888680905267296\n",
            "Cosine Distance between JD and Resume 2: 0.18667237406458148\n",
            "Cosine Distance between JD and Resume 3: 0.1853946035178229\n",
            "Cosine Distance between JD and Resume 4: 0.18474220922376783\n",
            "Cosine Distance between JD and Resume 5: 0.2696372129237119\n"
          ]
        }
      ],
      "source": [
        "# Calculate cosine distance between job description and each resume\n",
        "distance_resume_1 = cosine_distance(job_description_embedding, resume_1_embedding)\n",
        "distance_resume_2 = cosine_distance(job_description_embedding, resume_2_embedding)\n",
        "distance_resume_3 = cosine_distance(job_description_embedding, resume_3_embedding)\n",
        "distance_resume_4 = cosine_distance(job_description_embedding, resume_4_embedding)\n",
        "distance_resume_5 = cosine_distance(job_description_embedding, resume_5_embedding)\n",
        "\n",
        "# Print the distances\n",
        "print(f\"Cosine Distance between JD and Resume 1: {distance_resume_1}\")\n",
        "print(f\"Cosine Distance between JD and Resume 2: {distance_resume_2}\")\n",
        "print(f\"Cosine Distance between JD and Resume 3: {distance_resume_3}\")\n",
        "print(f\"Cosine Distance between JD and Resume 4: {distance_resume_4}\")\n",
        "print(f\"Cosine Distance between JD and Resume 5: {distance_resume_5}\")"
      ]
    },
    {
      "cell_type": "code",
      "execution_count": null,
      "metadata": {
        "colab": {
          "base_uri": "https://localhost:8080/",
          "height": 410
        },
        "id": "tkGYadme0_2e",
        "outputId": "46b7edcd-c14f-45be-c0d4-e62a25ee00fe"
      },
      "outputs": [
        {
          "data": {
            "image/png": "[encoded data removed]",
            "text/plain": [
              "<Figure size 600x400 with 1 Axes>"
            ]
          },
          "metadata": {},
          "output_type": "display_data"
        }
      ],
      "source": [
        "distances = [distance_resume_1, distance_resume_2, distance_resume_3, distance_resume_4, distance_resume_5]\n",
        "labels = ['Resume 1', 'Resume 2', 'Resume 3', 'Resume 4', 'Resume 5']\n",
        "\n",
        "# Plotting\n",
        "plt.figure(figsize=(6, 4))\n",
        "plt.bar(labels, distances, color='skyblue')\n",
        "plt.xlabel('Resumes')\n",
        "plt.ylabel('Cosine Distance (1 - Similarity)')\n",
        "plt.title('Job Description vs Resumes: Cosine Distance')\n",
        "plt.ylim([0, 1])  # Cosine distance ranges from 0 to 1\n",
        "plt.show()"
      ]
    },
    {
      "cell_type": "markdown",
      "metadata": {
        "id": "qGTk2Er3qvJs"
      },
      "source": [
        "SBERT"
      ]
    },
    {
      "cell_type": "code",
      "execution_count": null,
      "metadata": {
        "colab": {
          "base_uri": "https://localhost:8080/"
        },
        "id": "eFBKk9DGdiF4",
        "outputId": "1216add9-4c17-4362-e4e3-0db62c28d155"
      },
      "outputs": [
        {
          "output_type": "stream",
          "name": "stdout",
          "text": [
            "Collecting sentence-transformers\n",
            "  Downloading sentence_transformers-3.2.1-py3-none-any.whl.metadata (10 kB)\n",
            "Requirement already satisfied: transformers<5.0.0,>=4.41.0 in /usr/local/lib/python3.10/dist-packages (from sentence-transformers) (4.44.2)\n",
            "Requirement already satisfied: tqdm in /usr/local/lib/python3.10/dist-packages (from sentence-transformers) (4.66.5)\n",
            "Requirement already satisfied: torch>=1.11.0 in /usr/local/lib/python3.10/dist-packages (from sentence-transformers) (2.5.0+cu121)\n",
            "Requirement already satisfied: scikit-learn in /usr/local/lib/python3.10/dist-packages (from sentence-transformers) (1.5.2)\n",
            "Requirement already satisfied: scipy in /usr/local/lib/python3.10/dist-packages (from sentence-transformers) (1.13.1)\n",
            "Requirement already satisfied: huggingface-hub>=0.20.0 in /usr/local/lib/python3.10/dist-packages (from sentence-transformers) (0.24.7)\n",
            "Requirement already satisfied: Pillow in /usr/local/lib/python3.10/dist-packages (from sentence-transformers) (10.4.0)\n",
            "Requirement already satisfied: filelock in /usr/local/lib/python3.10/dist-packages (from huggingface-hub>=0.20.0->sentence-transformers) (3.16.1)\n",
            "Requirement already satisfied: fsspec>=2023.5.0 in /usr/local/lib/python3.10/dist-packages (from huggingface-hub>=0.20.0->sentence-transformers) (2024.6.1)\n",
            "Requirement already satisfied: packaging>=20.9 in /usr/local/lib/python3.10/dist-packages (from huggingface-hub>=0.20.0->sentence-transformers) (24.1)\n",
            "Requirement already satisfied: pyyaml>=5.1 in /usr/local/lib/python3.10/dist-packages (from huggingface-hub>=0.20.0->sentence-transformers) (6.0.2)\n",
            "Requirement already satisfied: requests in /usr/local/lib/python3.10/dist-packages (from huggingface-hub>=0.20.0->sentence-transformers) (2.32.3)\n",
            "Requirement already satisfied: typing-extensions>=3.7.4.3 in /usr/local/lib/python3.10/dist-packages (from huggingface-hub>=0.20.0->sentence-transformers) (4.12.2)\n",
            "Requirement already satisfied: networkx in /usr/local/lib/python3.10/dist-packages (from torch>=1.11.0->sentence-transformers) (3.4.2)\n",
            "Requirement already satisfied: jinja2 in /usr/local/lib/python3.10/dist-packages (from torch>=1.11.0->sentence-transformers) (3.1.4)\n",
            "Requirement already satisfied: sympy==1.13.1 in /usr/local/lib/python3.10/dist-packages (from torch>=1.11.0->sentence-transformers) (1.13.1)\n",
            "Requirement already satisfied: mpmath<1.4,>=1.1.0 in /usr/local/lib/python3.10/dist-packages (from sympy==1.13.1->torch>=1.11.0->sentence-transformers) (1.3.0)\n",
            "Requirement already satisfied: numpy>=1.17 in /usr/local/lib/python3.10/dist-packages (from transformers<5.0.0,>=4.41.0->sentence-transformers) (1.26.4)\n",
            "Requirement already satisfied: regex!=2019.12.17 in /usr/local/lib/python3.10/dist-packages (from transformers<5.0.0,>=4.41.0->sentence-transformers) (2024.9.11)\n",
            "Requirement already satisfied: safetensors>=0.4.1 in /usr/local/lib/python3.10/dist-packages (from transformers<5.0.0,>=4.41.0->sentence-transformers) (0.4.5)\n",
            "Requirement already satisfied: tokenizers<0.20,>=0.19 in /usr/local/lib/python3.10/dist-packages (from transformers<5.0.0,>=4.41.0->sentence-transformers) (0.19.1)\n",
            "Requirement already satisfied: joblib>=1.2.0 in /usr/local/lib/python3.10/dist-packages (from scikit-learn->sentence-transformers) (1.4.2)\n",
            "Requirement already satisfied: threadpoolctl>=3.1.0 in /usr/local/lib/python3.10/dist-packages (from scikit-learn->sentence-transformers) (3.5.0)\n",
            "Requirement already satisfied: MarkupSafe>=2.0 in /usr/local/lib/python3.10/dist-packages (from jinja2->torch>=1.11.0->sentence-transformers) (3.0.2)\n",
            "Requirement already satisfied: charset-normalizer<4,>=2 in /usr/local/lib/python3.10/dist-packages (from requests->huggingface-hub>=0.20.0->sentence-transformers) (3.4.0)\n",
            "Requirement already satisfied: idna<4,>=2.5 in /usr/local/lib/python3.10/dist-packages (from requests->huggingface-hub>=0.20.0->sentence-transformers) (3.10)\n",
            "Requirement already satisfied: urllib3<3,>=1.21.1 in /usr/local/lib/python3.10/dist-packages (from requests->huggingface-hub>=0.20.0->sentence-transformers) (2.2.3)\n",
            "Requirement already satisfied: certifi>=2017.4.17 in /usr/local/lib/python3.10/dist-packages (from requests->huggingface-hub>=0.20.0->sentence-transformers) (2024.8.30)\n",
            "Downloading sentence_transformers-3.2.1-py3-none-any.whl (255 kB)\n",
            "\u001b[2K   \u001b[90m━━━━━━━━━━━━━━━━━━━━━━━━━━━━━━━━━━━━━━━━\u001b[0m \u001b[32m255.8/255.8 kB\u001b[0m \u001b[31m12.9 MB/s\u001b[0m eta \u001b[36m0:00:00\u001b[0m\n",
            "\u001b[?25hInstalling collected packages: sentence-transformers\n",
            "Successfully installed sentence-transformers-3.2.1\n"
          ]
        }
      ],
      "source": [
        "pip install -U sentence-transformers"
      ]
    },
    {
      "cell_type": "code",
      "source": [
        "pip install datasets"
      ],
      "metadata": {
        "colab": {
          "base_uri": "https://localhost:8080/"
        },
        "id": "keNg4FU678is",
        "outputId": "b4cf9a02-fa82-4c7b-91d6-383f4031bf71"
      },
      "execution_count": null,
      "outputs": [
        {
          "output_type": "stream",
          "name": "stdout",
          "text": [
            "Requirement already satisfied: datasets in /usr/local/lib/python3.10/dist-packages (3.0.2)\n",
            "Requirement already satisfied: filelock in /usr/local/lib/python3.10/dist-packages (from datasets) (3.16.1)\n",
            "Requirement already satisfied: numpy>=1.17 in /usr/local/lib/python3.10/dist-packages (from datasets) (1.26.4)\n",
            "Requirement already satisfied: pyarrow>=15.0.0 in /usr/local/lib/python3.10/dist-packages (from datasets) (16.1.0)\n",
            "Requirement already satisfied: dill<0.3.9,>=0.3.0 in /usr/local/lib/python3.10/dist-packages (from datasets) (0.3.8)\n",
            "Requirement already satisfied: pandas in /usr/local/lib/python3.10/dist-packages (from datasets) (2.2.2)\n",
            "Requirement already satisfied: requests>=2.32.2 in /usr/local/lib/python3.10/dist-packages (from datasets) (2.32.3)\n",
            "Requirement already satisfied: tqdm>=4.66.3 in /usr/local/lib/python3.10/dist-packages (from datasets) (4.66.5)\n",
            "Requirement already satisfied: xxhash in /usr/local/lib/python3.10/dist-packages (from datasets) (3.5.0)\n",
            "Requirement already satisfied: multiprocess<0.70.17 in /usr/local/lib/python3.10/dist-packages (from datasets) (0.70.16)\n",
            "Requirement already satisfied: fsspec<=2024.9.0,>=2023.1.0 in /usr/local/lib/python3.10/dist-packages (from fsspec[http]<=2024.9.0,>=2023.1.0->datasets) (2024.6.1)\n",
            "Requirement already satisfied: aiohttp in /usr/local/lib/python3.10/dist-packages (from datasets) (3.10.10)\n",
            "Requirement already satisfied: huggingface-hub>=0.23.0 in /usr/local/lib/python3.10/dist-packages (from datasets) (0.24.7)\n",
            "Requirement already satisfied: packaging in /usr/local/lib/python3.10/dist-packages (from datasets) (24.1)\n",
            "Requirement already satisfied: pyyaml>=5.1 in /usr/local/lib/python3.10/dist-packages (from datasets) (6.0.2)\n",
            "Requirement already satisfied: aiohappyeyeballs>=2.3.0 in /usr/local/lib/python3.10/dist-packages (from aiohttp->datasets) (2.4.3)\n",
            "Requirement already satisfied: aiosignal>=1.1.2 in /usr/local/lib/python3.10/dist-packages (from aiohttp->datasets) (1.3.1)\n",
            "Requirement already satisfied: attrs>=17.3.0 in /usr/local/lib/python3.10/dist-packages (from aiohttp->datasets) (24.2.0)\n",
            "Requirement already satisfied: frozenlist>=1.1.1 in /usr/local/lib/python3.10/dist-packages (from aiohttp->datasets) (1.5.0)\n",
            "Requirement already satisfied: multidict<7.0,>=4.5 in /usr/local/lib/python3.10/dist-packages (from aiohttp->datasets) (6.1.0)\n",
            "Requirement already satisfied: yarl<2.0,>=1.12.0 in /usr/local/lib/python3.10/dist-packages (from aiohttp->datasets) (1.16.0)\n",
            "Requirement already satisfied: async-timeout<5.0,>=4.0 in /usr/local/lib/python3.10/dist-packages (from aiohttp->datasets) (4.0.3)\n",
            "Requirement already satisfied: typing-extensions>=3.7.4.3 in /usr/local/lib/python3.10/dist-packages (from huggingface-hub>=0.23.0->datasets) (4.12.2)\n",
            "Requirement already satisfied: charset-normalizer<4,>=2 in /usr/local/lib/python3.10/dist-packages (from requests>=2.32.2->datasets) (3.4.0)\n",
            "Requirement already satisfied: idna<4,>=2.5 in /usr/local/lib/python3.10/dist-packages (from requests>=2.32.2->datasets) (3.10)\n",
            "Requirement already satisfied: urllib3<3,>=1.21.1 in /usr/local/lib/python3.10/dist-packages (from requests>=2.32.2->datasets) (2.2.3)\n",
            "Requirement already satisfied: certifi>=2017.4.17 in /usr/local/lib/python3.10/dist-packages (from requests>=2.32.2->datasets) (2024.8.30)\n",
            "Requirement already satisfied: python-dateutil>=2.8.2 in /usr/local/lib/python3.10/dist-packages (from pandas->datasets) (2.8.2)\n",
            "Requirement already satisfied: pytz>=2020.1 in /usr/local/lib/python3.10/dist-packages (from pandas->datasets) (2024.2)\n",
            "Requirement already satisfied: tzdata>=2022.7 in /usr/local/lib/python3.10/dist-packages (from pandas->datasets) (2024.2)\n",
            "Requirement already satisfied: six>=1.5 in /usr/local/lib/python3.10/dist-packages (from python-dateutil>=2.8.2->pandas->datasets) (1.16.0)\n",
            "Requirement already satisfied: propcache>=0.2.0 in /usr/local/lib/python3.10/dist-packages (from yarl<2.0,>=1.12.0->aiohttp->datasets) (0.2.0)\n"
          ]
        }
      ]
    },
    {
      "cell_type": "code",
      "execution_count": null,
      "metadata": {
        "id": "aFyne9x3doIQ"
      },
      "outputs": [],
      "source": [
        "import os\n",
        "from sentence_transformers import SentenceTransformer, losses, InputExample\n",
        "from torch.utils.data import DataLoader\n",
        "from datasets import Dataset  # Import Dataset to resolve the error\n",
        "\n",
        "# Set your Hugging Face token\n",
        "os.environ['HUGGINGFACE_HUB_TOKEN'] = 'ADD_API_KEY'\n",
        "\n",
        "# 1. Load a pretrained Sentence Transformer model\n",
        "model = SentenceTransformer(\"all-MiniLM-L6-v2\")\n",
        "\n",
        "# 2. Calculate embeddings by calling model.encode()\n",
        "embeddings_jd = model.encode(job_description)\n",
        "\n",
        "### send embeddings to openai and see if you can tweak it  - find similar results with GPT and weightages acc to client"
      ]
    },
    {
      "cell_type": "code",
      "execution_count": null,
      "metadata": {
        "colab": {
          "base_uri": "https://localhost:8080/"
        },
        "id": "JR5ILaf5eC9P",
        "outputId": "97afa889-80b2-46a2-a6cb-ba61b7cab470"
      },
      "outputs": [
        {
          "output_type": "stream",
          "name": "stdout",
          "text": [
            "tensor([[0.5284]])\n",
            "tensor([[0.3559]])\n",
            "tensor([[0.4324]])\n",
            "tensor([[0.5124]])\n",
            "tensor([[0.2608]])\n"
          ]
        }
      ],
      "source": [
        "embeddings_resume_1 = model.encode(resume_1)\n",
        "embeddings_resume_2 = model.encode(resume_2)\n",
        "embeddings_resume_3 = model.encode(resume_3)\n",
        "embeddings_resume_4 = model.encode(resume_4)\n",
        "embeddings_resume_5 = model.encode(resume_5)\n",
        "\n",
        "# 3. Calculate the embedding similarities\n",
        "similarities_1 = model.similarity(embeddings_jd, embeddings_resume_1)\n",
        "similarities_2 = model.similarity(embeddings_jd, embeddings_resume_2)\n",
        "similarities_3 = model.similarity(embeddings_jd, embeddings_resume_3)\n",
        "similarities_4 = model.similarity(embeddings_jd, embeddings_resume_4)\n",
        "similarities_5 = model.similarity(embeddings_jd, embeddings_resume_5)\n",
        "\n",
        "print(similarities_1)\n",
        "print(similarities_2)\n",
        "print(similarities_3)\n",
        "print(similarities_4)\n",
        "print(similarities_5)"
      ]
    },
    {
      "cell_type": "markdown",
      "metadata": {
        "id": "eNdqnsFIykN1"
      },
      "source": [
        "Tuning the weights for similarity #Section-Based Pairing"
      ]
    },
    {
      "cell_type": "code",
      "execution_count": null,
      "metadata": {
        "id": "txwn97cLyjxM"
      },
      "outputs": [],
      "source": [
        "# Weights as defined by the client\n",
        "#weights = {'skills': 0.5, 'experience': 0.3, 'education': 0.2}\n",
        "\n",
        "# Calculate weighted similarity\n",
        "#final_score = (\n",
        "    #weights['skills'] * cosine_similarity(jd_skills_emb, resume_skills_emb) +\n",
        "    #weights['experience'] * cosine_similarity(jd_experience_emb, resume_experience_emb) +\n",
        "    #weights['education'] * cosine_similarity(jd_education_emb, resume_education_emb)\n",
        "#)\n",
        "\n",
        "# Print the final score\n",
        "#print(\"Final Similarity Score:\", final_score)"
      ]
    },
    {
      "cell_type": "markdown",
      "metadata": {
        "id": "c-m3qZ6d0B2X"
      },
      "source": [
        "Generating positive and negative pairs of JDs and Resumes"
      ]
    },
    {
      "cell_type": "code",
      "execution_count": null,
      "metadata": {
        "id": "tKg0-A9pQ8Zk"
      },
      "outputs": [],
      "source": [
        "JD1 = read_pdf(\"/content/JD7sense.pdf\")\n",
        "JD2 = read_pdf(\"/content/Job Desription 2.pdf\")\n",
        "resume_1 = read_pdf(\"/content/4-ResumeNathanielBanks.pdf\")\n",
        "resume_2 = read_pdf(\"/content/73-Alonzo_Craig_Washington.pdf\")\n",
        "resume_3 = read_pdf(\"/content/14-resume 2.pdf\")\n",
        "resume_4 = read_pdf(\"/content/76-MJonesResume2024.pdf\")\n",
        "resume_5 = read_pdf(\"/content/26-Resume.pdf\")"
      ]
    },
    {
      "cell_type": "code",
      "execution_count": null,
      "metadata": {
        "id": "t3n3HKG1RK1Q"
      },
      "outputs": [],
      "source": [
        "resume_6 = read_pdf(\"/content/66-Resume_Jenell Washington_May 2024.docx\")\n",
        "resume_7 = read_pdf(\"/content/77-Amy_Rose.pdf\")\n",
        "resume_8 = read_pdf(\"/content/35-GINA_MOTEN RESUME  April 2024.pdf\")\n",
        "resume_9 = read_pdf(\"/content/72-Megan_Wilson_Resume.pdf\")"
      ]
    },
    {
      "cell_type": "code",
      "execution_count": null,
      "metadata": {
        "id": "bAJCFk1P0BY2"
      },
      "outputs": [],
      "source": [
        "from sentence_transformers import SentenceTransformer, InputExample\n",
        "\n",
        "\n",
        "# Example dataset\n",
        "jobs = {\n",
        "    \"JD1\": \"JD1\",\n",
        "    \"JD2\": \"JD2\"\n",
        "    # Add more job descriptions\n",
        "}\n",
        "\n",
        "# Resumes associated with each JD, where each tuple is (resume_text, label)\n",
        "resumes = {\n",
        "    \"JD1\": [\n",
        "        (\"resume_1\", 1),\n",
        "        (\"resume_2\", 0),\n",
        "        (\"resume_3\", 0)\n",
        "        # Add more resumes\n",
        "    ],\n",
        "    \"JD2\": [\n",
        "        (\"resume_6\", 1),\n",
        "        (\"resume_7\", 0),\n",
        "        (\"resume_8\", 0)\n",
        "        # Add more resumes\n",
        "    ]\n",
        "}\n",
        "\n",
        "# Function to create pairs\n",
        "def create_pairs(jobs, resumes):\n",
        "    pairs = []\n",
        "    for jd_id, job_description in jobs.items():\n",
        "        # Get the resumes associated with this job description\n",
        "        associated_resumes = resumes.get(jd_id, [])\n",
        "\n",
        "        for resume_text, label in associated_resumes:\n",
        "            # Create an InputExample for each JD-resume pair\n",
        "            pair = InputExample(texts=[job_description, resume_text], label=float(label))\n",
        "            pairs.append(pair)\n",
        "\n",
        "    return pairs"
      ]
    },
    {
      "cell_type": "code",
      "execution_count": null,
      "metadata": {
        "colab": {
          "base_uri": "https://localhost:8080/"
        },
        "id": "OvI21H7bMHsk",
        "outputId": "0fab3fb2-2610-4e78-c192-0a518695916f"
      },
      "outputs": [
        {
          "output_type": "stream",
          "name": "stdout",
          "text": [
            "Texts: ['JD1', 'resume_1'], Label: 1.0\n",
            "Texts: ['JD1', 'resume_2'], Label: 0.0\n",
            "Texts: ['JD1', 'resume_3'], Label: 0.0\n",
            "Texts: ['JD2', 'resume_6'], Label: 1.0\n",
            "Texts: ['JD2', 'resume_7'], Label: 0.0\n",
            "Texts: ['JD2', 'resume_8'], Label: 0.0\n"
          ]
        }
      ],
      "source": [
        " # Generate the pairs\n",
        "dataset_pairs = create_pairs(jobs, resumes)\n",
        "\n",
        "# Check the first few pairs\n",
        "for pair in dataset_pairs[:6]:\n",
        "    print(f\"Texts: {pair.texts}, Label: {pair.label}\")"
      ]
    },
    {
      "cell_type": "code",
      "execution_count": null,
      "metadata": {
        "colab": {
          "base_uri": "https://localhost:8080/"
        },
        "id": "ZonUIIXAgJ-E",
        "outputId": "dbf63f34-1edd-4c11-afe3-55e25a877ac7"
      },
      "outputs": [
        {
          "output_type": "stream",
          "name": "stdout",
          "text": [
            "[<sentence_transformers.readers.InputExample.InputExample object at 0x7aee5bf0b8b0>, <sentence_transformers.readers.InputExample.InputExample object at 0x7aee5bf08100>, <sentence_transformers.readers.InputExample.InputExample object at 0x7aee5bf09bd0>, <sentence_transformers.readers.InputExample.InputExample object at 0x7aee5bf0a6b0>, <sentence_transformers.readers.InputExample.InputExample object at 0x7aee5bf0aa70>, <sentence_transformers.readers.InputExample.InputExample object at 0x7aee5bf0bdf0>]\n"
          ]
        }
      ],
      "source": [
        "print(dataset_pairs)"
      ]
    },
    {
      "cell_type": "code",
      "source": [
        "!pip install datasets transformers"
      ],
      "metadata": {
        "colab": {
          "base_uri": "https://localhost:8080/"
        },
        "id": "BEmi55UR33Gq",
        "outputId": "dd44e608-6596-4b0d-ca3b-eb7eef6ac809"
      },
      "execution_count": null,
      "outputs": [
        {
          "output_type": "stream",
          "name": "stdout",
          "text": [
            "Requirement already satisfied: datasets in /usr/local/lib/python3.10/dist-packages (3.0.2)\n",
            "Requirement already satisfied: transformers in /usr/local/lib/python3.10/dist-packages (4.44.2)\n",
            "Requirement already satisfied: filelock in /usr/local/lib/python3.10/dist-packages (from datasets) (3.16.1)\n",
            "Requirement already satisfied: numpy>=1.17 in /usr/local/lib/python3.10/dist-packages (from datasets) (1.26.4)\n",
            "Requirement already satisfied: pyarrow>=15.0.0 in /usr/local/lib/python3.10/dist-packages (from datasets) (16.1.0)\n",
            "Requirement already satisfied: dill<0.3.9,>=0.3.0 in /usr/local/lib/python3.10/dist-packages (from datasets) (0.3.8)\n",
            "Requirement already satisfied: pandas in /usr/local/lib/python3.10/dist-packages (from datasets) (2.2.2)\n",
            "Requirement already satisfied: requests>=2.32.2 in /usr/local/lib/python3.10/dist-packages (from datasets) (2.32.3)\n",
            "Requirement already satisfied: tqdm>=4.66.3 in /usr/local/lib/python3.10/dist-packages (from datasets) (4.66.5)\n",
            "Requirement already satisfied: xxhash in /usr/local/lib/python3.10/dist-packages (from datasets) (3.5.0)\n",
            "Requirement already satisfied: multiprocess<0.70.17 in /usr/local/lib/python3.10/dist-packages (from datasets) (0.70.16)\n",
            "Requirement already satisfied: fsspec<=2024.9.0,>=2023.1.0 in /usr/local/lib/python3.10/dist-packages (from fsspec[http]<=2024.9.0,>=2023.1.0->datasets) (2024.6.1)\n",
            "Requirement already satisfied: aiohttp in /usr/local/lib/python3.10/dist-packages (from datasets) (3.10.10)\n",
            "Requirement already satisfied: huggingface-hub>=0.23.0 in /usr/local/lib/python3.10/dist-packages (from datasets) (0.24.7)\n",
            "Requirement already satisfied: packaging in /usr/local/lib/python3.10/dist-packages (from datasets) (24.1)\n",
            "Requirement already satisfied: pyyaml>=5.1 in /usr/local/lib/python3.10/dist-packages (from datasets) (6.0.2)\n",
            "Requirement already satisfied: regex!=2019.12.17 in /usr/local/lib/python3.10/dist-packages (from transformers) (2024.9.11)\n",
            "Requirement already satisfied: safetensors>=0.4.1 in /usr/local/lib/python3.10/dist-packages (from transformers) (0.4.5)\n",
            "Requirement already satisfied: tokenizers<0.20,>=0.19 in /usr/local/lib/python3.10/dist-packages (from transformers) (0.19.1)\n",
            "Requirement already satisfied: aiohappyeyeballs>=2.3.0 in /usr/local/lib/python3.10/dist-packages (from aiohttp->datasets) (2.4.3)\n",
            "Requirement already satisfied: aiosignal>=1.1.2 in /usr/local/lib/python3.10/dist-packages (from aiohttp->datasets) (1.3.1)\n",
            "Requirement already satisfied: attrs>=17.3.0 in /usr/local/lib/python3.10/dist-packages (from aiohttp->datasets) (24.2.0)\n",
            "Requirement already satisfied: frozenlist>=1.1.1 in /usr/local/lib/python3.10/dist-packages (from aiohttp->datasets) (1.5.0)\n",
            "Requirement already satisfied: multidict<7.0,>=4.5 in /usr/local/lib/python3.10/dist-packages (from aiohttp->datasets) (6.1.0)\n",
            "Requirement already satisfied: yarl<2.0,>=1.12.0 in /usr/local/lib/python3.10/dist-packages (from aiohttp->datasets) (1.16.0)\n",
            "Requirement already satisfied: async-timeout<5.0,>=4.0 in /usr/local/lib/python3.10/dist-packages (from aiohttp->datasets) (4.0.3)\n",
            "Requirement already satisfied: typing-extensions>=3.7.4.3 in /usr/local/lib/python3.10/dist-packages (from huggingface-hub>=0.23.0->datasets) (4.12.2)\n",
            "Requirement already satisfied: charset-normalizer<4,>=2 in /usr/local/lib/python3.10/dist-packages (from requests>=2.32.2->datasets) (3.4.0)\n",
            "Requirement already satisfied: idna<4,>=2.5 in /usr/local/lib/python3.10/dist-packages (from requests>=2.32.2->datasets) (3.10)\n",
            "Requirement already satisfied: urllib3<3,>=1.21.1 in /usr/local/lib/python3.10/dist-packages (from requests>=2.32.2->datasets) (2.2.3)\n",
            "Requirement already satisfied: certifi>=2017.4.17 in /usr/local/lib/python3.10/dist-packages (from requests>=2.32.2->datasets) (2024.8.30)\n",
            "Requirement already satisfied: python-dateutil>=2.8.2 in /usr/local/lib/python3.10/dist-packages (from pandas->datasets) (2.8.2)\n",
            "Requirement already satisfied: pytz>=2020.1 in /usr/local/lib/python3.10/dist-packages (from pandas->datasets) (2024.2)\n",
            "Requirement already satisfied: tzdata>=2022.7 in /usr/local/lib/python3.10/dist-packages (from pandas->datasets) (2024.2)\n",
            "Requirement already satisfied: six>=1.5 in /usr/local/lib/python3.10/dist-packages (from python-dateutil>=2.8.2->pandas->datasets) (1.16.0)\n",
            "Requirement already satisfied: propcache>=0.2.0 in /usr/local/lib/python3.10/dist-packages (from yarl<2.0,>=1.12.0->aiohttp->datasets) (0.2.0)\n"
          ]
        }
      ]
    },
    {
      "cell_type": "code",
      "execution_count": null,
      "metadata": {
        "id": "0hnCWkhquilF",
        "colab": {
          "base_uri": "https://localhost:8080/"
        },
        "outputId": "ffbd1176-f2ab-4cca-e72f-1a6cc65bb5a4"
      },
      "outputs": [
        {
          "output_type": "stream",
          "name": "stderr",
          "text": [
            "/usr/local/lib/python3.10/dist-packages/transformers/tokenization_utils_base.py:1601: FutureWarning: `clean_up_tokenization_spaces` was not set. It will be set to `True` by default. This behavior will be depracted in transformers v4.45, and will be then set to `False` by default. For more details check this issue: https://github.com/huggingface/transformers/issues/31884\n",
            "  warnings.warn(\n"
          ]
        }
      ],
      "source": [
        "from sentence_transformers import SentenceTransformer, losses, InputExample\n",
        "from torch.utils.data import DataLoader\n",
        "from datasets import Dataset, DatasetDict\n",
        "\n",
        "# Load the pre-trained SBERT model\n",
        "model = SentenceTransformer('all-MiniLM-L6-v2')\n",
        "\n",
        "# Convert your dataset_pairs to InputExample format\n",
        "train_examples = [InputExample(texts=[pair.texts[0], pair.texts[1]], label=pair.label) for pair in dataset_pairs]\n",
        "\n",
        "# Create DataLoader from the training examples\n",
        "train_dataloader = DataLoader(train_examples, shuffle=True, batch_size=2)\n",
        "\n",
        "# Define the loss function (CosineSimilarityLoss)\n",
        "train_loss = losses.CosineSimilarityLoss(model)\n"
      ]
    },
    {
      "cell_type": "code",
      "execution_count": null,
      "metadata": {
        "colab": {
          "base_uri": "https://localhost:8080/",
          "height": 523
        },
        "id": "WtPvxAAwURju",
        "outputId": "0e779419-0658-4a22-8e9a-3e971d639d93"
      },
      "outputs": [
        {
          "output_type": "error",
          "ename": "NameError",
          "evalue": "name 'Dataset' is not defined",
          "traceback": [
            "\u001b[0;31m---------------------------------------------------------------------------\u001b[0m",
            "\u001b[0;31mNameError\u001b[0m                                 Traceback (most recent call last)",
            "\u001b[0;32m<ipython-input-74-b75df6323f9d>\u001b[0m in \u001b[0;36m<cell line: 1>\u001b[0;34m()\u001b[0m\n\u001b[0;32m----> 1\u001b[0;31m model.fit(\n\u001b[0m\u001b[1;32m      2\u001b[0m     \u001b[0mtrain_objectives\u001b[0m\u001b[0;34m=\u001b[0m\u001b[0;34m[\u001b[0m\u001b[0;34m(\u001b[0m\u001b[0mtrain_dataloader\u001b[0m\u001b[0;34m,\u001b[0m \u001b[0mtrain_loss\u001b[0m\u001b[0;34m)\u001b[0m\u001b[0;34m]\u001b[0m\u001b[0;34m,\u001b[0m\u001b[0;34m\u001b[0m\u001b[0;34m\u001b[0m\u001b[0m\n\u001b[1;32m      3\u001b[0m     \u001b[0mepochs\u001b[0m\u001b[0;34m=\u001b[0m\u001b[0;36m3\u001b[0m\u001b[0;34m,\u001b[0m         \u001b[0;31m# The model will go through the entire dataset 3 times\u001b[0m\u001b[0;34m\u001b[0m\u001b[0;34m\u001b[0m\u001b[0m\n\u001b[1;32m      4\u001b[0m     \u001b[0mwarmup_steps\u001b[0m\u001b[0;34m=\u001b[0m\u001b[0;36m100\u001b[0m  \u001b[0;31m# For the first 100 steps, the learning rate will gradually increase\u001b[0m\u001b[0;34m\u001b[0m\u001b[0;34m\u001b[0m\u001b[0m\n\u001b[1;32m      5\u001b[0m )\n",
            "\u001b[0;32m/usr/local/lib/python3.10/dist-packages/sentence_transformers/fit_mixin.py\u001b[0m in \u001b[0;36mfit\u001b[0;34m(self, train_objectives, evaluator, epochs, steps_per_epoch, scheduler, warmup_steps, optimizer_class, optimizer_params, weight_decay, evaluation_steps, output_path, save_best_model, max_grad_norm, use_amp, callback, show_progress_bar, checkpoint_path, checkpoint_save_steps, checkpoint_save_total_limit)\u001b[0m\n\u001b[1;32m    262\u001b[0m                 \u001b[0mtexts\u001b[0m \u001b[0;34m+=\u001b[0m \u001b[0mbatch_texts\u001b[0m\u001b[0;34m\u001b[0m\u001b[0;34m\u001b[0m\u001b[0m\n\u001b[1;32m    263\u001b[0m                 \u001b[0mlabels\u001b[0m \u001b[0;34m+=\u001b[0m \u001b[0mbatch_labels\u001b[0m\u001b[0;34m\u001b[0m\u001b[0;34m\u001b[0m\u001b[0m\n\u001b[0;32m--> 264\u001b[0;31m             \u001b[0mdataset\u001b[0m \u001b[0;34m=\u001b[0m \u001b[0mDataset\u001b[0m\u001b[0;34m.\u001b[0m\u001b[0mfrom_dict\u001b[0m\u001b[0;34m(\u001b[0m\u001b[0;34m{\u001b[0m\u001b[0;34mf\"sentence_{idx}\"\u001b[0m\u001b[0;34m:\u001b[0m \u001b[0mtext\u001b[0m \u001b[0;32mfor\u001b[0m \u001b[0midx\u001b[0m\u001b[0;34m,\u001b[0m \u001b[0mtext\u001b[0m \u001b[0;32min\u001b[0m \u001b[0menumerate\u001b[0m\u001b[0;34m(\u001b[0m\u001b[0mzip\u001b[0m\u001b[0;34m(\u001b[0m\u001b[0;34m*\u001b[0m\u001b[0mtexts\u001b[0m\u001b[0;34m)\u001b[0m\u001b[0;34m)\u001b[0m\u001b[0;34m}\u001b[0m\u001b[0;34m)\u001b[0m\u001b[0;34m\u001b[0m\u001b[0;34m\u001b[0m\u001b[0m\n\u001b[0m\u001b[1;32m    265\u001b[0m             \u001b[0;31m# Add label column, unless all labels are 0 (the default value for `labels` in InputExample)\u001b[0m\u001b[0;34m\u001b[0m\u001b[0;34m\u001b[0m\u001b[0m\n\u001b[1;32m    266\u001b[0m             \u001b[0madd_label_column\u001b[0m \u001b[0;34m=\u001b[0m \u001b[0;32mTrue\u001b[0m\u001b[0;34m\u001b[0m\u001b[0;34m\u001b[0m\u001b[0m\n",
            "\u001b[0;31mNameError\u001b[0m: name 'Dataset' is not defined"
          ]
        }
      ],
      "source": [
        "model.fit(\n",
        "    train_objectives=[(train_dataloader, train_loss)],\n",
        "    epochs=3,         # The model will go through the entire dataset 3 times\n",
        "    warmup_steps=100  # For the first 100 steps, the learning rate will gradually increase\n",
        ")"
      ]
    }
  ],
  "metadata": {
    "colab": {
      "provenance": [],
      "include_colab_link": true
    },
    "kernelspec": {
      "display_name": "Python 3",
      "name": "python3"
    },
    "language_info": {
      "name": "python"
    }
  },
  "nbformat": 4,
  "nbformat_minor": 0
}